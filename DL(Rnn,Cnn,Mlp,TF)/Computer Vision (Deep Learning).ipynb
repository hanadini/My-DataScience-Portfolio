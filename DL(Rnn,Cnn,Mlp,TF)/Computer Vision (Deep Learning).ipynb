{
 "cells": [
  {
   "cell_type": "markdown",
   "metadata": {},
   "source": [
    "# Deep Learning for Computer Vision(DL for CV)\n",
    "\n",
    "The field of computer vision is shifting from statistical methods to deep learning neural network methods.\n",
    "There are still many challenging problems to solve in computer vision. Nevertheless, deep learning methods are achieving state-of-the-art results on some specific problems.\n",
    "It is not just the performance of deep learning models on benchmark problems that is most interesting; it is the fact that a single model can learn meaning from images and perform vision tasks, obviating the need for a pipeline of specialized and hand-crafted methods.\n",
    "\n",
    "The most impressive applications of deep learning methods in the field of computer vision:\n",
    "\n",
    "1. Image Classification\n",
    "2. Image Classification With Localization\n",
    "3. Object Detection\n",
    "4. Object Segmentation\n",
    "5. Image Style Transfer\n",
    "6. Image Colorization\n",
    "7. Image Reconstruction\n",
    "8. Image Super-Resolution\n",
    "9. Image Synthesis\n",
    "10. Other Problems"
   ]
  },
  {
   "cell_type": "markdown",
   "metadata": {},
   "source": [
    "**Computer Vision**, or CV for short, is broadly defined as helping computers to “see” or extract meaning from digital images such as photographs and videos.The problem of understanding images is not solved, and may never be. This is primarily because the world is complex and messy. There are few rules. And yet we can easily and effortlessly recognize objects, people, and context.\n",
    "\n",
    "A property of **deep learning** is that the performance of this type of model improves by training it with more examples and by increasing its depth or representational capacity.\n",
    "In addition to scalability, another often-cited benefit of deep learning models is their ability to perform automatic feature extraction from raw data, also called feature learning.\n",
    "\n",
    "Some of the first large demonstrations of the power of deep learning were in computer vision, specifically image classification. More recently in object detection and face recognition.\n",
    "\n",
    "The three key promises of deep learning for computer vision are as follows:\n",
    "\n",
    "- **The Promise of Feature Learning.** That is, that deep learning methods can automatically learn the features from image data required by the model, rather than requiring that the feature detectors be handcrafted and specified by an expert.\n",
    "- **The Promise of Continued Improvement.** That is, that the performance of deep learning in computer vision is based on real results and that the improvements appear to be continuing and perhaps speeding up.\n",
    "- **The Promise of End-to-End Models.** That is, that large end-to-end deep learning models can be fit on large datasets of images or video offering a more general and better-performing approach.\n",
    "\n",
    "Computer vision is not “solved” but deep learning is required to get you to the state-of-the-art on many challenging problems in the field."
   ]
  },
  {
   "cell_type": "markdown",
   "metadata": {},
   "source": [
    "## Preparing Image Data\n",
    "Images are comprised of matrices of pixel values.\n",
    "\n",
    "Pixel values are often unsigned integers in the range between 0 and 255. Although these pixel values can be presented directly to neural network models in their raw format, this can result in challenges during modeling, such as slower than expected training of the model.\n",
    "Instead, there can be great benefit in preparing the image pixel values prior to modeling, such as simply scaling pixel values to the range 0-1 to centering and even standardizing the values.\n",
    "This is called normalization and can be performed directly on a loaded image. The example below uses the PIL library (the standard image handling library in Python) to load an image and normalize its pixel values.\n",
    "\n",
    "we can use the **Pillow library** to load the photo, confirm the min and max pixel values, normalize the values, and confirm the normalization was performed."
   ]
  },
  {
   "cell_type": "code",
   "execution_count": 1,
   "metadata": {},
   "outputs": [
    {
     "name": "stdout",
     "output_type": "stream",
     "text": [
      "Data Type: uint8\n",
      "Min: 0.000, Max: 255.000\n",
      "Min: 0.000, Max: 1.000\n"
     ]
    }
   ],
   "source": [
    "# example of pixel normalization\n",
    "from numpy import asarray\n",
    "from PIL import Image\n",
    "# load image\n",
    "image = Image.open('C:\\\\Users\\\\user\\\\Desktop\\\\ML\\\\Data\\\\bondi_beach.jpg')\n",
    "pixels = asarray(image)\n",
    "# confirm pixel range is 0-255\n",
    "print('Data Type: %s' % pixels.dtype)\n",
    "print('Min: %.3f, Max: %.3f' % (pixels.min(), pixels.max()))\n",
    "# convert from integers to floats\n",
    "pixels = pixels.astype('float32')\n",
    "# normalize to the range 0-1\n",
    "pixels /= 255.0\n",
    "# confirm the normalization\n",
    "print('Min: %.3f, Max: %.3f' % (pixels.min(), pixels.max()))"
   ]
  },
  {
   "cell_type": "markdown",
   "metadata": {},
   "source": [
    "### Manually Scale Image Pixel Data for Deep Learning\n",
    "\n",
    "Black and white images are single matrix of pixels, whereas color images have a separate array of pixel values for each color channel, such as red, green, and blue.\n",
    "\n",
    "- Normalize Pixel Values\n",
    "\n",
    "Neural networks process inputs using small weight values, and inputs with large integer values can disrupt or slow down the learning process. As such it is good practice to normalize the pixel values so that each pixel value has a value between 0 and 1.\n",
    "It is valid for images to have pixel values in the range 0-1 and images can be viewed normally.\n",
    "This can be achieved by dividing all pixels values by the largest pixel value; that is 255. This is performed across all channels, regardless of the actual range of pixel values that are present in the image."
   ]
  },
  {
   "cell_type": "code",
   "execution_count": 2,
   "metadata": {},
   "outputs": [
    {
     "name": "stdout",
     "output_type": "stream",
     "text": [
      "PNG\n",
      "RGBA\n",
      "(1280, 856)\n",
      "Data Type: uint8\n",
      "Min: 0.000, Max: 255.000\n",
      "Min: 0.000, Max: 1.000\n"
     ]
    }
   ],
   "source": [
    "# load and show an image with Pillow\n",
    "from PIL import Image\n",
    "# load the image\n",
    "image = Image.open('C:\\\\Users\\\\user\\\\Desktop\\\\ML\\\\Data\\\\sydney_bridge.jpg')\n",
    "# summarize some details about the image\n",
    "print(image.format)\n",
    "print(image.mode)\n",
    "print(image.size)\n",
    "# show the image\n",
    "image.show()\n",
    "\n",
    "# pixel normalization\n",
    "from numpy import asarray\n",
    "from PIL import Image\n",
    "# load image\n",
    "image = Image.open('C:\\\\Users\\\\user\\\\Desktop\\\\ML\\\\Data\\\\sydney_bridge.jpg')\n",
    "pixels = asarray(image)\n",
    "# confirm pixel range is 0-255\n",
    "print('Data Type: %s' % pixels.dtype)\n",
    "print('Min: %.3f, Max: %.3f' % (pixels.min(), pixels.max()))\n",
    "# convert from integers to floats\n",
    "pixels = pixels.astype('float32')\n",
    "# normalize to the range 0-1\n",
    "pixels /= 255.0\n",
    "# confirm the normalization\n",
    "print('Min: %.3f, Max: %.3f' % (pixels.min(), pixels.max()))"
   ]
  },
  {
   "cell_type": "markdown",
   "metadata": {},
   "source": [
    "- **Center Pixel Values**\n",
    "\n",
    "A popular data preparation technique for image data is to subtract the mean value from the pixel values.\n",
    "This approach is called centering, as the distribution of the pixel values is centered on the value of zero.\n",
    "\n",
    "Centering can be performed before or after normalization. Centering the pixels then normalizing will mean that the pixel values will be centered close to 0.5 and be in the range 0-1. Centering after normalization will mean that the pixels will have positive and negative values, in which case images will not display correctly (e.g. pixels are expected to have value in the range 0-255 or 0-1). Centering after normalization might be preferred, although it might be worth testing both approaches.\n",
    "\n",
    "Centering requires that a mean pixel value be calculated prior to subtracting it from the pixel values. There are multiple ways that the mean can be calculated; for example:\n",
    "\n",
    "- Per image.\n",
    "- Per mini-batch of images (under stochastic gradient descent).\n",
    "- Per training dataset.\n",
    "\n",
    "The mean can be calculated for all pixels in the image, referred to as a global centering, or it can be calculated for each channel in the case of color images, referred to as local centering.\n",
    "\n",
    "- Global Centering: Calculating and subtracting the mean pixel value across color channels.\n",
    "- Local Centering: Calculating and subtracting the mean pixel value per color channel.\n",
    "\n",
    "Per-image global centering is common because it is trivial to implement. Also common is per mini-batch global or local centering for the same reason: it is fast and easy to implement.\n",
    "\n",
    "In some cases, per-channel means are pre-calculated across an entire training dataset. In this case, the image means must be stored and used both during training and any inference with the trained models in the future. For example, the per-channel pixel means calculated for the ImageNet training dataset are as follows:\n",
    "\n",
    "    ImageNet Training Dataset Means: [0.485, 0.456, 0.406]\n",
    "    \n",
    "For models trained on images centered using these means that may be used for transfer learning on new tasks, it can be beneficial or even required to normalize images for the new task using the same means."
   ]
  },
  {
   "cell_type": "code",
   "execution_count": 3,
   "metadata": {},
   "outputs": [
    {
     "name": "stdout",
     "output_type": "stream",
     "text": [
      "Mean: 184.501\n",
      "Min: 0.000, Max: 255.000\n",
      "Mean: -0.000\n",
      "Min: -184.501, Max: 70.499\n"
     ]
    }
   ],
   "source": [
    "# example of global centering (subtract mean)\n",
    "from numpy import asarray\n",
    "from PIL import Image\n",
    "# load image\n",
    "image = Image.open('C:\\\\Users\\\\user\\\\Desktop\\\\ML\\\\Data\\\\sydney_bridge.jpg')\n",
    "pixels = asarray(image)\n",
    "# convert from integers to floats\n",
    "pixels = pixels.astype('float32')\n",
    "# calculate global mean\n",
    "mean = pixels.mean()\n",
    "print('Mean: %.3f' % mean)\n",
    "print('Min: %.3f, Max: %.3f' % (pixels.min(), pixels.max()))\n",
    "# global centering of pixels\n",
    "pixels = pixels - mean\n",
    "# confirm it had the desired effect\n",
    "mean = pixels.mean()\n",
    "print('Mean: %.3f' % mean)\n",
    "print('Min: %.3f, Max: %.3f' % (pixels.min(), pixels.max()))"
   ]
  },
  {
   "cell_type": "markdown",
   "metadata": {},
   "source": [
    "- Local Centering\n",
    "\n",
    "The example below calculates the mean for each color channel in the loaded image, then centers the pixel values for each channel separately.\n",
    "\n",
    "Note that NumPy allows us to specify the dimensions over which a statistic like the mean, min, and max are calculated via the “axis” argument. In this example, we set this to (0,1) for the width and height dimensions, which leaves the third dimension or channels. The result is one mean, min, or max for each of the three channel arrays.\n",
    "\n",
    "Also note that when we calculate the mean that we specify the dtype as ‘float64‘; this is required as it will cause all sub-operations of the mean, such as the sum, to be performed with 64-bit precision. Without this, the sum will be performed at lower resolution and the resulting mean will be wrong given the accumulated errors in the loss of precision, in turn meaning the mean of the centered pixel values for each channel will not be zero (or a very small number close to zero)."
   ]
  },
  {
   "cell_type": "code",
   "execution_count": 4,
   "metadata": {},
   "outputs": [
    {
     "name": "stdout",
     "output_type": "stream",
     "text": [
      "Means: [158.43480487 159.58662109 164.9829202  255.        ]\n",
      "Mins: [  0.   0.   0. 255.], Maxs: [255. 255. 255. 255.]\n",
      "Means: [-3.06365524e-07 -1.24562507e-06  4.88580506e-07  0.00000000e+00]\n",
      "Mins: [-158.4348  -159.58662 -164.98293    0.     ], Maxs: [96.56519  95.413376 90.01708   0.      ]\n"
     ]
    }
   ],
   "source": [
    "# example of per-channel centering (subtract mean)\n",
    "from numpy import asarray\n",
    "from PIL import Image\n",
    "# load image\n",
    "image = Image.open('C:\\\\Users\\\\user\\\\Desktop\\\\ML\\\\Data\\\\sydney_bridge.jpg')\n",
    "pixels = asarray(image)\n",
    "# convert from integers to floats\n",
    "pixels = pixels.astype('float32')\n",
    "# calculate per-channel means and standard deviations\n",
    "means = pixels.mean(axis=(0,1), dtype='float64')\n",
    "print('Means: %s' % means)\n",
    "print('Mins: %s, Maxs: %s' % (pixels.min(axis=(0,1)), pixels.max(axis=(0,1))))\n",
    "# per-channel centering of pixels\n",
    "pixels -= means\n",
    "# confirm it had the desired effect\n",
    "means = pixels.mean(axis=(0,1), dtype='float64')\n",
    "print('Means: %s' % means)\n",
    "print('Mins: %s, Maxs: %s' % (pixels.min(axis=(0,1)), pixels.max(axis=(0,1))))"
   ]
  },
  {
   "cell_type": "markdown",
   "metadata": {},
   "source": [
    "- **Standardize Pixel Values**\n",
    "\n",
    "The distribution of pixel values often follows a Normal or Gaussian distribution, e.g. bell shape.\n",
    "\n",
    "This distribution may be present per image, per mini-batch of images, or across the training dataset and globally or per channel.\n",
    "As such, there may be benefit in transforming the distribution of pixel values to be a standard Gaussian: that is both centering the pixel values on zero and normalizing the values by the standard deviation. The result is a standard Gaussian of pixel values with a mean of 0.0 and a standard deviation of 1.0.\n",
    "As with centering, the operation can be performed per image, per mini-batch, and across the entire training dataset, and it can be performed globally across channels or locally per channel.\n",
    "Standardization may be preferred to normalization and centering alone and it results in both zero-centered values of small input values, roughly in the range -3 to 3, depending on the specifics of the dataset.\n",
    "For consistency of the input data, it may make more sense to standardize images per-channel using statistics calculated per mini-batch or across the training dataset, if possible.\n",
    "\n",
    "- Global Standardization\n",
    "The example below calculates the mean and standard deviation across all color channels in the loaded image, then uses these values to standardize the pixel values."
   ]
  },
  {
   "cell_type": "code",
   "execution_count": 5,
   "metadata": {},
   "outputs": [
    {
     "name": "stdout",
     "output_type": "stream",
     "text": [
      "Mean: 184.501, Standard Deviation: 73.418\n",
      "Mean: -0.000, Standard Deviation: 1.000\n"
     ]
    }
   ],
   "source": [
    "# example of global pixel standardization\n",
    "from numpy import asarray\n",
    "from PIL import Image\n",
    "# load image\n",
    "image = Image.open('C:\\\\Users\\\\user\\\\Desktop\\\\ML\\\\Data\\\\sydney_bridge.jpg')\n",
    "pixels = asarray(image)\n",
    "# convert from integers to floats\n",
    "pixels = pixels.astype('float32')\n",
    "# calculate global mean and standard deviation\n",
    "mean, std = pixels.mean(), pixels.std()\n",
    "print('Mean: %.3f, Standard Deviation: %.3f' % (mean, std))\n",
    "# global standardization of pixels\n",
    "pixels = (pixels - mean) / std\n",
    "# confirm it had the desired effect\n",
    "mean, std = pixels.mean(), pixels.std()\n",
    "print('Mean: %.3f, Standard Deviation: %.3f' % (mean, std))"
   ]
  },
  {
   "cell_type": "markdown",
   "metadata": {},
   "source": [
    "- Positive Global Standardization\n",
    "\n",
    "There may be a desire to maintain the pixel values in the positive domain, perhaps so the images can be visualized or perhaps for the benefit of a chosen activation function in the model.\n",
    "\n",
    "A popular way of achieving this is to clip the standardized pixel values to the range [-1, 1] and then rescale the values from [-1,1] to [0,1]."
   ]
  },
  {
   "cell_type": "code",
   "execution_count": 6,
   "metadata": {},
   "outputs": [
    {
     "name": "stdout",
     "output_type": "stream",
     "text": [
      "Mean: 184.501, Standard Deviation: 73.418\n",
      "Mean: 0.563, Standard Deviation: 0.396\n",
      "Min: 0.000, Max: 0.980\n"
     ]
    }
   ],
   "source": [
    "# example of global pixel standardization shifted to positive domain\n",
    "from numpy import asarray\n",
    "from numpy import clip\n",
    "from PIL import Image\n",
    "# load image\n",
    "image = Image.open('C:\\\\Users\\\\user\\\\Desktop\\\\ML\\\\Data\\\\sydney_bridge.jpg')\n",
    "pixels = asarray(image)\n",
    "# convert from integers to floats\n",
    "pixels = pixels.astype('float32')\n",
    "# calculate global mean and standard deviation\n",
    "mean, std = pixels.mean(), pixels.std()\n",
    "print('Mean: %.3f, Standard Deviation: %.3f' % (mean, std))\n",
    "# global standardization of pixels\n",
    "pixels = (pixels - mean) / std\n",
    "# clip pixel values to [-1,1]\n",
    "pixels = clip(pixels, -1.0, 1.0)\n",
    "# shift from [-1,1] to [0,1] with 0.5 mean\n",
    "pixels = (pixels + 1.0) / 2.0\n",
    "# confirm it had the desired effect\n",
    "mean, std = pixels.mean(), pixels.std()\n",
    "print('Mean: %.3f, Standard Deviation: %.3f' % (mean, std))\n",
    "print('Min: %.3f, Max: %.3f' % (pixels.min(), pixels.max()))"
   ]
  },
  {
   "cell_type": "markdown",
   "metadata": {},
   "source": [
    "- Local Standardization\n",
    "\n",
    "The example below calculates the mean and standard deviation of the loaded image per-channel, then uses these statistics to standardize the pixels separately in each channel."
   ]
  },
  {
   "cell_type": "code",
   "execution_count": 7,
   "metadata": {},
   "outputs": [
    {
     "name": "stdout",
     "output_type": "stream",
     "text": [
      "Means: [158.43480487 159.58662109 164.9829202  255.        ], Stds: [70.63586854 70.73750037 70.1171148   0.        ]\n",
      "Means: [-3.98300453e-13 -1.93157989e-13  3.25967320e-13             nan], Stds: [ 1.  1.  1. nan]\n"
     ]
    },
    {
     "name": "stderr",
     "output_type": "stream",
     "text": [
      "C:\\Users\\user\\Anaconda3\\lib\\site-packages\\ipykernel_launcher.py:14: RuntimeWarning: invalid value encountered in true_divide\n",
      "  \n"
     ]
    }
   ],
   "source": [
    "# example of per-channel pixel standardization\n",
    "from numpy import asarray\n",
    "from PIL import Image\n",
    "# load image\n",
    "image = Image.open('C:\\\\Users\\\\user\\\\Desktop\\\\ML\\\\Data\\\\sydney_bridge.jpg')\n",
    "pixels = asarray(image)\n",
    "# convert from integers to floats\n",
    "pixels = pixels.astype('float32')\n",
    "# calculate per-channel means and standard deviations\n",
    "means = pixels.mean(axis=(0,1), dtype='float64')\n",
    "stds = pixels.std(axis=(0,1), dtype='float64')\n",
    "print('Means: %s, Stds: %s' % (means, stds))\n",
    "# per-channel standardization of pixels\n",
    "pixels = (pixels - means) / stds\n",
    "# confirm it had the desired effect\n",
    "means = pixels.mean(axis=(0,1), dtype='float64')\n",
    "stds = pixels.std(axis=(0,1), dtype='float64')\n",
    "print('Means: %s, Stds: %s' % (means, stds))"
   ]
  },
  {
   "cell_type": "markdown",
   "metadata": {},
   "source": [
    "**Extensions**\n",
    "\n",
    "- Develop Function. Develop a function to scale a provided image, using arguments to choose the type of preparation to perform,\n",
    "- Projection Methods. Investigate and implement data preparation methods that remove linear correlations from the pixel data, such as PCA and ZCA.\n",
    "- Dataset Statistics. Select and update one of the centering or standardization examples to calculate statistics across an entire training dataset, then apply those statistics when preparing image data for training or inference."
   ]
  },
  {
   "cell_type": "markdown",
   "metadata": {},
   "source": [
    "### Evaluate Pixel Scaling Methods for Image Classification With CNNs\n",
    "\n",
    "#### Procedure for Choosing a Pixel Scaling Method\n",
    "Given a new image classification task, what pixel scaling methods should be used?\n",
    "\n",
    "- Step 1: Choose Dataset. This may be the entire training dataset or a small subset. The idea is to complete the experiments quickly and get a result.\n",
    "- Step 2: Choose Model. Design a model that is skillful, but not necessarily the best model for the problem. Some parallel prototyping of models may be required.\n",
    "- Step 3: Choose Pixel Scaling Methods. List 3-5 data preparation schemes for evaluation of your problem.\n",
    "- Step 4: Run Experiment. Run the experiments in such a way that the results are robust and representative, ideally repeat each experiment multiple times.\n",
    "- Step 5: Analyze Results. Compare methods both in terms of the speed of learning and mean performance across repeated experiments.\n",
    "\n",
    "A clear signal of a superior pixel scaling method may be seen in one of two ways:\n",
    "\n",
    "- Faster Learning. Learning curves clearly show that a model learns faster with a given data preparation scheme.\n",
    "- Better Accuracy. Mean model performance clearly shows better accuracy with a given data preparation scheme."
   ]
  },
  {
   "cell_type": "markdown",
   "metadata": {},
   "source": [
    "- Choose Dataset: MNIST Image Classification\n",
    "\n",
    "The MNIST problem, or MNIST for short, is an image classification problem comprised of 70,000 images of handwritten digits.\n",
    "The goal of the problem is to classify a given image of a handwritten digit as an integer from 0 to 9. As such, it is a multiclass image classification problem.\n",
    "It is a standard dataset for evaluating machine learning and deep learning algorithms. Best results for the dataset are about 99.79% accurate, or an error rate of about 0.21% (e.g. less than 1%).\n",
    "This dataset is provided as part of the Keras library and can be automatically downloaded (if needed) and loaded into memory by a call to the keras.datasets.mnist.load_data() function."
   ]
  },
  {
   "cell_type": "code",
   "execution_count": 8,
   "metadata": {},
   "outputs": [
    {
     "name": "stderr",
     "output_type": "stream",
     "text": [
      "Using TensorFlow backend.\n"
     ]
    },
    {
     "name": "stdout",
     "output_type": "stream",
     "text": [
      "Train (60000, 28, 28) (60000,)\n",
      "Test ((10000, 28, 28), (10000,))\n",
      "Train 0 255 33.318421449829934 78.56748998339798\n",
      "Train 0 255 33.791224489795916 79.17246322228644\n"
     ]
    }
   ],
   "source": [
    "# load and summarize the MNIST dataset\n",
    "from keras.datasets import mnist\n",
    "# load dataset\n",
    "(train_images, train_labels), (test_images, test_labels) = mnist.load_data()\n",
    "# summarize dataset shape\n",
    "print('Train', train_images.shape, train_labels.shape)\n",
    "print('Test', (test_images.shape, test_labels.shape))\n",
    "# summarize pixel values\n",
    "print('Train', train_images.min(), train_images.max(), train_images.mean(), train_images.std())\n",
    "print('Train', test_images.min(), test_images.max(), test_images.mean(), test_images.std())"
   ]
  },
  {
   "cell_type": "markdown",
   "metadata": {},
   "source": [
    "- Choose Model: Convolutional Neural Network\n",
    "\n",
    "We will use a convolutional neural network model to evaluate the different pixel scaling methods.\n",
    "\n",
    "A CNN is expected to perform very well on this problem, although the model chosen for this experiment does not have to perform well or best for the problem. Instead, it must be skillful (better than random) and must allow the impact of different data preparation schemes to be differentiated in terms of speed of learning and/or model performance.\n",
    "As such, the model must have sufficient capacity to learn the problem.\n",
    "We will demonstrate the baseline model on the MNIST problem.\n",
    "\n",
    "First, the dataset must be loaded and the shape of the train and test dataset expanded to add a channel dimension, set to one as we only have a single black and white channel.\n",
    "\n",
    "Next, we will normalize the pixel values for this example and one hot encode the target values, required for multiclass classification.\n",
    "\n",
    "The model is defined as a convolutional layer followed by a max pooling layer; this combination is repeated again, then the filter maps are flattened, interpreted by a fully connected layer and followed by an output layer.\n",
    "\n",
    "The ReLU activation function is used for hidden layers and the softmax activation function is used for the output layer. Enough filter maps and nodes are specified to provide sufficient capacity to learn the problem.\n",
    "\n",
    "The Adam variation of stochastic gradient descent is used to find the model weights. The categorical cross entropy loss function is used, required for multi-class classification, and classification accuracy is monitored during training.\n",
    "\n",
    "The model is fit for five training epochs and a large batch size of 128 images is used.\n",
    "\n",
    "Once fit, the model is evaluated on the test dataset."
   ]
  },
  {
   "cell_type": "code",
   "execution_count": 9,
   "metadata": {},
   "outputs": [
    {
     "name": "stdout",
     "output_type": "stream",
     "text": [
      "Epoch 1/5\n",
      "60000/60000 [==============================] - 43s 710us/step - loss: 0.2352 - accuracy: 0.9315\n",
      "Epoch 2/5\n",
      "60000/60000 [==============================] - 49s 823us/step - loss: 0.0642 - accuracy: 0.9801\n",
      "Epoch 3/5\n",
      "60000/60000 [==============================] - 52s 865us/step - loss: 0.0449 - accuracy: 0.9862\n",
      "Epoch 4/5\n",
      "60000/60000 [==============================] - 53s 877us/step - loss: 0.0336 - accuracy: 0.9899\n",
      "Epoch 5/5\n",
      "60000/60000 [==============================] - 52s 872us/step - loss: 0.0280 - accuracy: 0.9908\n",
      "0.9909999966621399\n"
     ]
    }
   ],
   "source": [
    "# baseline cnn model for the mnist problem\n",
    "from keras.datasets import mnist\n",
    "from keras.utils import to_categorical\n",
    "from keras.models import Sequential\n",
    "from keras.layers import Conv2D\n",
    "from keras.layers import MaxPooling2D\n",
    "from keras.layers import Dense\n",
    "from keras.layers import Flatten\n",
    "# load dataset\n",
    "(trainX, trainY), (testX, testY) = mnist.load_data()\n",
    "# reshape dataset to have a single channel\n",
    "width, height, channels = trainX.shape[1], trainX.shape[2], 1\n",
    "trainX = trainX.reshape((trainX.shape[0], width, height, channels))\n",
    "testX = testX.reshape((testX.shape[0], width, height, channels))\n",
    "# normalize pixel values\n",
    "trainX = trainX.astype('float32') / 255\n",
    "testX = testX.astype('float32') / 255\n",
    "# one hot encode target values\n",
    "trainY = to_categorical(trainY)\n",
    "testY = to_categorical(testY)\n",
    "# define model\n",
    "model = Sequential()\n",
    "model.add(Conv2D(32, (3, 3), activation='relu', input_shape=(width, height, channels)))\n",
    "model.add(MaxPooling2D((2, 2)))\n",
    "model.add(Conv2D(64, (3, 3), activation='relu'))\n",
    "model.add(MaxPooling2D((2, 2)))\n",
    "model.add(Flatten())\n",
    "model.add(Dense(64, activation='relu'))\n",
    "model.add(Dense(10, activation='softmax'))\n",
    "# compile model\n",
    "model.compile(optimizer='adam', loss='categorical_crossentropy', metrics=['accuracy'])\n",
    "# fit model\n",
    "model.fit(trainX, trainY, epochs=5, batch_size=128)\n",
    "# evaluate model\n",
    "_, acc = model.evaluate(testX, testY, verbose=0)\n",
    "print(acc)"
   ]
  },
  {
   "cell_type": "markdown",
   "metadata": {},
   "source": [
    "- Choose Pixel Scaling Methods\n",
    "\n",
    "Neural network models often cannot be trained on raw pixel values, such as pixel values in the range of 0 to 255.\n",
    "\n",
    "The reason is that the network uses a weighted sum of inputs, and for the network to both be stable and train effectively, weights should be kept small.\n",
    "\n",
    "Instead, the pixel values must be scaled prior to training. There are perhaps three main approaches to scaling pixel values; they are:\n",
    "\n",
    "- Normalization: pixel values are scaled to the range 0-1.\n",
    "- Centering: the mean pixel value is subtracted from each pixel value resulting in a distribution of pixel values centered on a mean of zero.\n",
    "- Standardization: the pixel values are scaled to a standard Gaussian with a mean of zero and a standard deviation of one.\n",
    "\n",
    "Traditionally, sigmoid activation functions were used and inputs that sum to 0 (zero mean) were preferred. This may or may not still be the case with the wide adoption of ReLU and similar activation functions.\n",
    "\n",
    "Further, in centering and standardization, the mean or mean and standard deviation can be calculated across a channel, an image, a mini-batch, or the entire training dataset. This may add additional variations on a chosen scaling method that may be evaluated.\n",
    "\n",
    "Normalization is often the default approach as we can assume pixel values are always in the range 0-255, making the procedure very simple and efficient to implement.\n",
    "\n",
    "Centering is often promoted as the preferred approach as it was used in many popular papers, although the mean can be calculated per image (global) or channel (local) and across the batch of images or the entire training dataset, and often the procedure described in a paper does not specify exactly which variation was used."
   ]
  },
  {
   "cell_type": "code",
   "execution_count": 10,
   "metadata": {},
   "outputs": [
    {
     "name": "stdout",
     "output_type": "stream",
     "text": [
      "normalization\n",
      "Train 0.0 1.0 0.13066062 0.30810776\n",
      "Test 0.0 1.0 0.13251467 0.31048027\n",
      "center\n",
      "Train -33.318447 221.68155 -1.9512918e-05 78.567444\n",
      "Test -33.318447 221.68155 0.47278798 79.17245\n",
      "standardize\n",
      "Train -0.42407447 2.8215446 -3.4560264e-07 0.9999998\n",
      "Test -0.42407447 2.8215446 0.0060174568 1.0077008\n"
     ]
    }
   ],
   "source": [
    "# demonstrate pixel scaling methods on mnist dataset\n",
    "from keras.datasets import mnist\n",
    "\n",
    "# normalize images\n",
    "def prep_normalize(train, test):\n",
    "\t# convert from integers to floats\n",
    "\ttrain_norm = train.astype('float32')\n",
    "\ttest_norm = test.astype('float32')\n",
    "\t# normalize to range 0-1\n",
    "\ttrain_norm = train_norm / 255.0\n",
    "\ttest_norm = test_norm / 255.0\n",
    "\t# return normalized images\n",
    "\treturn train_norm, test_norm\n",
    "\n",
    "# center images\n",
    "def prep_center(train, test):\n",
    "\t# convert from integers to floats\n",
    "\ttrain_cent = train.astype('float32')\n",
    "\ttest_cent = test.astype('float32')\n",
    "\t# calculate statistics\n",
    "\tm = train_cent.mean()\n",
    "\t# center datasets\n",
    "\ttrain_cent = train_cent - m\n",
    "\ttest_cent = test_cent - m\n",
    "\t# return normalized images\n",
    "\treturn train_cent, test_cent\n",
    "\n",
    "# standardize images\n",
    "def prep_standardize(train, test):\n",
    "\t# convert from integers to floats\n",
    "\ttrain_stan = train.astype('float32')\n",
    "\ttest_stan = test.astype('float32')\n",
    "\t# calculate statistics\n",
    "\tm = train_stan.mean()\n",
    "\ts = train_stan.std()\n",
    "\t# center datasets\n",
    "\ttrain_stan = (train_stan - m) / s\n",
    "\ttest_stan = (test_stan - m) / s\n",
    "\t# return normalized images\n",
    "\treturn train_stan, test_stan\n",
    "\n",
    "# load dataset\n",
    "(train_images, train_labels), (test_images, test_labels) = mnist.load_data()\n",
    "# normalize\n",
    "trainX, testX = prep_normalize(train_images, test_images)\n",
    "print('normalization')\n",
    "print('Train', trainX.min(), trainX.max(), trainX.mean(), trainX.std())\n",
    "print('Test', testX.min(), testX.max(), testX.mean(), testX.std())\n",
    "# center\n",
    "trainX, testX = prep_center(train_images, test_images)\n",
    "print('center')\n",
    "print('Train', trainX.min(), trainX.max(), trainX.mean(), trainX.std())\n",
    "print('Test', testX.min(), testX.max(), testX.mean(), testX.std())\n",
    "# standardize\n",
    "trainX, testX = prep_standardize(train_images, test_images)\n",
    "print('standardize')\n",
    "print('Train', trainX.min(), trainX.max(), trainX.mean(), trainX.std())\n",
    "print('Test', testX.min(), testX.max(), testX.mean(), testX.std())"
   ]
  },
  {
   "cell_type": "markdown",
   "metadata": {},
   "source": [
    "- Run Experiment\n",
    "\n",
    "Now that we have defined the dataset, the model, and the data preparation schemes to evaluate, we are ready to define and run the experiment."
   ]
  },
  {
   "cell_type": "code",
   "execution_count": 11,
   "metadata": {},
   "outputs": [
    {
     "name": "stdout",
     "output_type": "stream",
     "text": [
      "> 0: 98.930\n",
      "> 1: 98.760\n",
      "> 2: 98.970\n",
      "> 3: 98.810\n",
      "> 4: 98.790\n",
      "> 5: 99.180\n",
      "> 6: 99.030\n",
      "> 7: 99.070\n",
      "> 8: 99.000\n",
      "> 9: 99.120\n",
      "Normalization: 0.990 (0.001)\n",
      "> 0: 98.580\n",
      "> 1: 98.310\n",
      "> 2: 98.550\n",
      "> 3: 98.650\n",
      "> 4: 98.740\n",
      "> 5: 98.040\n",
      "> 6: 98.130\n",
      "> 7: 98.470\n",
      "> 8: 98.410\n",
      "> 9: 98.730\n",
      "Centered: 0.985 (0.002)\n",
      "> 0: 98.960\n",
      "> 1: 99.000\n",
      "> 2: 98.800\n",
      "> 3: 98.890\n",
      "> 4: 99.130\n",
      "> 5: 99.060\n",
      "> 6: 98.890\n",
      "> 7: 98.990\n",
      "> 8: 99.110\n",
      "> 9: 98.910\n",
      "Standardized: 0.990 (0.001)\n"
     ]
    },
    {
     "data": {
      "text/plain": [
       "<Figure size 640x480 with 1 Axes>"
      ]
     },
     "metadata": {},
     "output_type": "display_data"
    }
   ],
   "source": [
    "# comparison of training-set based pixel scaling methods on MNIST\n",
    "from numpy import mean\n",
    "from numpy import std\n",
    "from matplotlib import pyplot\n",
    "from keras.datasets import mnist\n",
    "from keras.utils import to_categorical\n",
    "from keras.models import Sequential\n",
    "from keras.layers import Conv2D\n",
    "from keras.layers import MaxPooling2D\n",
    "from keras.layers import Dense\n",
    "from keras.layers import Flatten\n",
    "\n",
    "# load train and test dataset\n",
    "def load_dataset():\n",
    "\t# load dataset\n",
    "\t(trainX, trainY), (testX, testY) = mnist.load_data()\n",
    "\t# reshape dataset to have a single channel\n",
    "\twidth, height, channels = trainX.shape[1], trainX.shape[2], 1\n",
    "\ttrainX = trainX.reshape((trainX.shape[0], width, height, channels))\n",
    "\ttestX = testX.reshape((testX.shape[0], width, height, channels))\n",
    "\t# one hot encode target values\n",
    "\ttrainY = to_categorical(trainY)\n",
    "\ttestY = to_categorical(testY)\n",
    "\treturn trainX, trainY, testX, testY\n",
    "\n",
    "# define cnn model\n",
    "def define_model():\n",
    "\tmodel = Sequential()\n",
    "\tmodel.add(Conv2D(32, (3, 3), activation='relu', input_shape=(28, 28, 1)))\n",
    "\tmodel.add(MaxPooling2D((2, 2)))\n",
    "\tmodel.add(Conv2D(64, (3, 3), activation='relu'))\n",
    "\tmodel.add(MaxPooling2D((2, 2)))\n",
    "\tmodel.add(Flatten())\n",
    "\tmodel.add(Dense(64, activation='relu'))\n",
    "\tmodel.add(Dense(10, activation='softmax'))\n",
    "\t# compile model\n",
    "\tmodel.compile(optimizer='adam', loss='categorical_crossentropy', metrics=['accuracy'])\n",
    "\treturn model\n",
    "\n",
    "# normalize images\n",
    "def prep_normalize(train, test):\n",
    "\t# convert from integers to floats\n",
    "\ttrain_norm = train.astype('float32')\n",
    "\ttest_norm = test.astype('float32')\n",
    "\t# normalize to range 0-1\n",
    "\ttrain_norm = train_norm / 255.0\n",
    "\ttest_norm = test_norm / 255.0\n",
    "\t# return normalized images\n",
    "\treturn train_norm, test_norm\n",
    "\n",
    "# center images\n",
    "def prep_center(train, test):\n",
    "\t# convert from integers to floats\n",
    "\ttrain_cent = train.astype('float32')\n",
    "\ttest_cent = test.astype('float32')\n",
    "\t# calculate statistics\n",
    "\tm = train_cent.mean()\n",
    "\t# center datasets\n",
    "\ttrain_cent = train_cent - m\n",
    "\ttest_cent = test_cent - m\n",
    "\t# return normalized images\n",
    "\treturn train_cent, test_cent\n",
    "\n",
    "# standardize images\n",
    "def prep_standardize(train, test):\n",
    "\t# convert from integers to floats\n",
    "\ttrain_stan = train.astype('float32')\n",
    "\ttest_stan = test.astype('float32')\n",
    "\t# calculate statistics\n",
    "\tm = train_stan.mean()\n",
    "\ts = train_stan.std()\n",
    "\t# center datasets\n",
    "\ttrain_stan = (train_stan - m) / s\n",
    "\ttest_stan = (test_stan - m) / s\n",
    "\t# return normalized images\n",
    "\treturn train_stan, test_stan\n",
    "\n",
    "# repeated evaluation of model with data prep scheme\n",
    "def repeated_evaluation(datapre_func, n_repeats=10):\n",
    "\t# prepare data\n",
    "\ttrainX, trainY, testX, testY = load_dataset()\n",
    "\t# repeated evaluation\n",
    "\tscores = list()\n",
    "\tfor i in range(n_repeats):\n",
    "\t\t# define model\n",
    "\t\tmodel = define_model()\n",
    "\t\t# prepare data\n",
    "\t\tprep_trainX, prep_testX = datapre_func(trainX, testX)\n",
    "\t\t# fit model\n",
    "\t\tmodel.fit(prep_trainX, trainY, epochs=5, batch_size=64, verbose=0)\n",
    "\t\t# evaluate model\n",
    "\t\t_, acc = model.evaluate(prep_testX, testY, verbose=0)\n",
    "\t\t# store result\n",
    "\t\tscores.append(acc)\n",
    "\t\tprint('> %d: %.3f' % (i, acc * 100.0))\n",
    "\treturn scores\n",
    "\n",
    "all_scores = list()\n",
    "# normalization\n",
    "scores = repeated_evaluation(prep_normalize)\n",
    "print('Normalization: %.3f (%.3f)' % (mean(scores), std(scores)))\n",
    "all_scores.append(scores)\n",
    "# center\n",
    "scores = repeated_evaluation(prep_center)\n",
    "print('Centered: %.3f (%.3f)' % (mean(scores), std(scores)))\n",
    "all_scores.append(scores)\n",
    "# standardize\n",
    "scores = repeated_evaluation(prep_standardize)\n",
    "print('Standardized: %.3f (%.3f)' % (mean(scores), std(scores)))\n",
    "all_scores.append(scores)\n",
    "# box and whisker plots of results\n",
    "pyplot.boxplot(all_scores, labels=['norm', 'cent', 'stan'])\n",
    "pyplot.show()"
   ]
  },
  {
   "cell_type": "markdown",
   "metadata": {},
   "source": [
    "- Analyze Results\n",
    "\n",
    "For brevity, we will only look at model performance in the comparison of data preparation schemes.\n",
    "\n",
    "The results of the experiments show that there is little or no difference (at the chosen precision) between pixel normalization and standardization with the chosen model on the MNIST dataset.\n",
    "\n",
    "From these results, I would use normalization over standardization on this dataset with this model because of the good results and because of the simplicity of normalization as compared to standardization."
   ]
  },
  {
   "cell_type": "markdown",
   "metadata": {},
   "source": [
    "### Normalize, Center, and Standardize Image Pixels in Keras\n",
    "\n",
    "Traditionally, the images would have to be scaled prior to the development of the model and stored in memory or on disk in the scaled format.\n",
    "\n",
    "An alternative approach is to scale the images using a preferred scaling technique just-in-time during the training or model evaluation process. Keras supports this type of data preparation for image data via the ImageDataGenerator class and API."
   ]
  },
  {
   "cell_type": "markdown",
   "metadata": {},
   "source": [
    "#### 1.MNIST Handwritten Image Classification Dataset\n",
    "This dataset is provided as part of the Keras library and can be automatically downloaded (if needed) and loaded into memory by a call to the keras.datasets.mnist.load_data() function."
   ]
  },
  {
   "cell_type": "code",
   "execution_count": 12,
   "metadata": {},
   "outputs": [
    {
     "name": "stdout",
     "output_type": "stream",
     "text": [
      "Train (60000, 28, 28) (60000,)\n",
      "Test ((10000, 28, 28), (10000,))\n",
      "Train 0 255 33.318421449829934 78.56748998339798\n",
      "Test 0 255 33.791224489795916 79.17246322228644\n"
     ]
    }
   ],
   "source": [
    "# load and summarize the MNIST dataset\n",
    "from keras.datasets import mnist\n",
    "# load dataset\n",
    "(train_images, train_labels), (test_images, test_labels) = mnist.load_data()\n",
    "# summarize dataset shape\n",
    "print('Train', train_images.shape, train_labels.shape)\n",
    "print('Test', (test_images.shape, test_labels.shape))\n",
    "# summarize pixel values\n",
    "print('Train', train_images.min(), train_images.max(), train_images.mean(), train_images.std())\n",
    "print('Test', test_images.min(), test_images.max(), test_images.mean(), test_images.std())"
   ]
  },
  {
   "cell_type": "markdown",
   "metadata": {},
   "source": [
    "#### 2.ImageDataGenerator class for Pixel Scaling\n",
    "The ImageDataGenerator class in Keras provides a suite of techniques for scaling pixel values in your image dataset prior to modeling.\n",
    "\n",
    "The class will wrap your image dataset, then when requested, it will return images in batches to the algorithm during training, validation, or evaluation and apply the scaling operations just-in-time. This provides an efficient and convenient approach to scaling image data when modeling with neural networks.\n",
    "\n",
    "The usage of the ImageDataGenerator class is as follows.\n",
    "\n",
    "1. Load your dataset.\n",
    "2. Configure the ImageDataGenerator (e.g. construct an instance).\n",
    "3. Calculate image statistics (e.g. call the fit() function).\n",
    "4. Use the generator to fit the model (e.g. pass the instance to the fit_generator() function).\n",
    "5. Use the generator to evaluate the model (e.g. pass the instance to the evaluate_generator() function).\n",
    "\n",
    "The ImageDataGenerator class supports a number of pixel scaling methods, as well as a range of data augmentation techniques. We will focus on the pixel scaling techniques and leave the data augmentation methods to a later discussion.\n",
    "\n",
    "The three main types of pixel scaling techniques supported by the ImageDataGenerator class are as follows:\n",
    "\n",
    "- Pixel Normalization: scale pixel values to the range 0-1.\n",
    "- Pixel Centering: scale pixel values to have a zero mean.\n",
    "- Pixel Standardization: scale pixel values to have a zero mean and unit variance.\n",
    "\n",
    "The pixel standardization is supported at two levels: either per-image (called sample-wise) or per-dataset (called feature-wise). Specifically, the mean and/or mean and standard deviation statistics required to standardize pixel values can be calculated from the pixel values in each image only (sample-wise) or across the entire training dataset (feature-wise).\n",
    "\n",
    "Other pixel scaling methods are supported, such as ZCA, brightening, and more, but wel will focus on these three most common methods.\n",
    "The choice of pixel scaling is selected by specifying arguments to the ImageDataGenerator when an instance is constructed; \n",
    "\n",
    "    #create and configure the data generator\n",
    "    datagen = ImageDataGenerator(...)\n",
    "    \n",
    "Next, if the chosen scaling method requires that statistics be calculated across the training dataset, then these statistics can be calculated and stored by calling the fit() function.\n",
    "\n",
    "When evaluating and selecting a model, it is common to calculate these statistics on the training dataset and then apply them to the validation and test datasets.\n",
    "\n",
    "    #calculate scaling statistics on the training dataset\n",
    "    datagen.fit(trainX)\n",
    "Once prepared, the data generator can be used to fit a neural network model by calling the flow() function to retrieve an iterator that returns batches of samples and passing it to the fit_generator() function.\n",
    "\n",
    "    #get batch iterator\n",
    "    train_iterator = datagen.flow(trainX, trainy)\n",
    "    #fit model\n",
    "    model.fit_generator(train_iterator, ...)\n",
    "If a validation dataset is required, a separate batch iterator can be created from the same data generator that will perform the same pixel scaling operations and use any required statistics calculated on the training dataset.\n",
    "\n",
    "    #get batch iterator for training\n",
    "    train_iterator = datagen.flow(trainX, trainy)\n",
    "    #get batch iterator for validation\n",
    "    val_iterator = datagen.flow(valX, valy)\n",
    "    #fit model\n",
    "    model.fit_generator(train_iterator, validation_data=val_iterator, ...)\n",
    "\n",
    "Once fit, the model can be evaluated by creating a batch iterator for the test dataset and calling the evaluate_generator() function on the model.\n",
    "\n",
    "Again, the same pixel scaling operations will be performed and any statistics calculated on the training dataset will be used, if needed.\n",
    "\n",
    "    #get batch iterator for testing\n",
    "    test_iterator = datagen.flow(testX, testy)\n",
    "    #evaluate model loss on test dataset\n",
    "    loss = model.evaluate_generator(test_iterator, ...)\n"
   ]
  },
  {
   "cell_type": "markdown",
   "metadata": {},
   "source": [
    "#### 3.Normalize Images With ImageDataGenerator\n",
    "\n",
    "The ImageDataGenerator class can be used to rescale pixel values from the range of 0-255 to the range 0-1 preferred for neural network models.\n",
    "Scaling data to the range of 0-1 is traditionally referred to as normalization.\n",
    "This can be achieved by setting the rescale argument to a ratio by which each pixel can be multiplied to achieve the desired range.\n",
    "\n",
    "The ImageDataGenerator does not need to be fit in this case because there are no global statistics that need to be calculated.\n",
    "\n",
    "Next, iterators can be created using the generator for both the train and test datasets. We will use a batch size of 64. This means that each of the train and test datasets of images are divided into groups of 64 images that will then be scaled when returned from the iterator.\n",
    "\n",
    "We can see how many batches there will be in one epoch, e.g. one pass through the training dataset, by printing the length of each iterator.\n",
    "\n",
    "We can then confirm that the pixel normalization has been performed as expected by retrieving the first batch of scaled images and inspecting the min and max pixel values.\n",
    "\n",
    "\n",
    "Next, we can use the data generator to fit and evaluate a model. We will define a simple convolutional neural network model and fit it on the train_iterator for five epochs with 60,000 samples divided by 64 samples per batch, or about 938 batches per epoch.\n",
    "\n",
    "Once fit, we will evaluate the model on the test dataset, with about 10,000 images divided by 64 samples per batch, or about 157 steps in a single epoch."
   ]
  },
  {
   "cell_type": "code",
   "execution_count": 13,
   "metadata": {},
   "outputs": [
    {
     "name": "stdout",
     "output_type": "stream",
     "text": [
      "Train min=0.000, max=255.000\n",
      "Test min=0.000, max=255.000\n",
      "Batches train=938, test=157\n",
      "Batch shape=(64, 28, 28, 1), min=0.000, max=1.000\n",
      "Epoch 1/5\n",
      "938/938 [==============================] - 65s 69ms/step - loss: 0.1756 - accuracy: 0.9481\n",
      "Epoch 2/5\n",
      "938/938 [==============================] - 65s 69ms/step - loss: 0.0556 - accuracy: 0.9833\n",
      "Epoch 3/5\n",
      "938/938 [==============================] - 64s 69ms/step - loss: 0.0393 - accuracy: 0.9873\n",
      "Epoch 4/5\n",
      "938/938 [==============================] - 65s 69ms/step - loss: 0.0299 - accuracy: 0.9904\n",
      "Epoch 5/5\n",
      "938/938 [==============================] - 64s 69ms/step - loss: 0.0234 - accuracy: 0.9925\n",
      "Test Accuracy: 98.800\n"
     ]
    }
   ],
   "source": [
    "# example of using ImageDataGenerator to normalize images\n",
    "from keras.datasets import mnist\n",
    "from keras.utils import to_categorical\n",
    "from keras.models import Sequential\n",
    "from keras.layers import Conv2D\n",
    "from keras.layers import MaxPooling2D\n",
    "from keras.layers import Dense\n",
    "from keras.layers import Flatten\n",
    "from keras.preprocessing.image import ImageDataGenerator\n",
    "# load dataset\n",
    "(trainX, trainY), (testX, testY) = mnist.load_data()\n",
    "# reshape dataset to have a single channel\n",
    "width, height, channels = trainX.shape[1], trainX.shape[2], 1\n",
    "trainX = trainX.reshape((trainX.shape[0], width, height, channels))\n",
    "testX = testX.reshape((testX.shape[0], width, height, channels))\n",
    "# one hot encode target values\n",
    "trainY = to_categorical(trainY)\n",
    "testY = to_categorical(testY)\n",
    "# confirm scale of pixels\n",
    "print('Train min=%.3f, max=%.3f' % (trainX.min(), trainX.max()))\n",
    "print('Test min=%.3f, max=%.3f' % (testX.min(), testX.max()))\n",
    "# create generator (1.0/255.0 = 0.003921568627451)\n",
    "datagen = ImageDataGenerator(rescale=1.0/255.0)\n",
    "# prepare an iterators to scale images\n",
    "train_iterator = datagen.flow(trainX, trainY, batch_size=64)\n",
    "test_iterator = datagen.flow(testX, testY, batch_size=64)\n",
    "print('Batches train=%d, test=%d' % (len(train_iterator), len(test_iterator)))\n",
    "# confirm the scaling works\n",
    "batchX, batchy = train_iterator.next()\n",
    "print('Batch shape=%s, min=%.3f, max=%.3f' % (batchX.shape, batchX.min(), batchX.max()))\n",
    "# define model\n",
    "model = Sequential()\n",
    "model.add(Conv2D(32, (3, 3), activation='relu', input_shape=(width, height, channels)))\n",
    "model.add(MaxPooling2D((2, 2)))\n",
    "model.add(Conv2D(64, (3, 3), activation='relu'))\n",
    "model.add(MaxPooling2D((2, 2)))\n",
    "model.add(Flatten())\n",
    "model.add(Dense(64, activation='relu'))\n",
    "model.add(Dense(10, activation='softmax'))\n",
    "# compile model\n",
    "model.compile(optimizer='adam', loss='categorical_crossentropy', metrics=['accuracy'])\n",
    "# fit model with generator\n",
    "model.fit_generator(train_iterator, steps_per_epoch=len(train_iterator), epochs=5)\n",
    "# evaluate model\n",
    "_, acc = model.evaluate_generator(test_iterator, steps=len(test_iterator), verbose=0)\n",
    "print('Test Accuracy: %.3f' % (acc * 100))"
   ]
  },
  {
   "cell_type": "markdown",
   "metadata": {},
   "source": [
    "#### 4.Center Images With ImageDataGenerator\n",
    "\n",
    "Another popular pixel scaling method is to calculate the mean pixel value across the entire training dataset, then subtract it from each image.\n",
    "This is called centering and has the effect of centering the distribution of pixel values on zero: that is, the mean pixel value for centered images will be zero.\n",
    "The ImageDataGenerator class refers to centering that uses the mean calculated on the training dataset as feature-wise centering. It requires that the statistic is calculated on the training dataset prior to scaling.\n",
    "\n",
    "It is different to calculating of the mean pixel value for each image, which Keras refers to as sample-wise centering and does not require any statistics to be calculated on the training dataset.\n",
    "\n",
    "We will demonstrate feature-wise centering in this section. Once the statistic is calculated on the training dataset, we can confirm the value by accessing and printing it.\n",
    "\n",
    "We can also confirm that the scaling procedure has had the desired effect by calculating the mean of a batch of images returned from the batch iterator. We would expect the mean to be a small value close to zero, but not zero because of the small number of images in the batch.\n",
    "\n",
    "A better check would be to set the batch size to the size of the training dataset (e.g. 60,000 samples), retrieve one batch, then calculate the mean. It should be a very small value close to zero."
   ]
  },
  {
   "cell_type": "code",
   "execution_count": 14,
   "metadata": {},
   "outputs": [
    {
     "name": "stdout",
     "output_type": "stream",
     "text": [
      "Means train=33.318, test=33.791\n",
      "Data Generator Mean: 33.318\n",
      "(64, 28, 28, 1) 0.590333\n",
      "(60000, 28, 28, 1) -1.9512918e-05\n"
     ]
    }
   ],
   "source": [
    "# example of centering a image dataset\n",
    "from keras.datasets import mnist\n",
    "from keras.preprocessing.image import ImageDataGenerator\n",
    "# load dataset\n",
    "(trainX, trainy), (testX, testy) = mnist.load_data()\n",
    "# reshape dataset to have a single channel\n",
    "width, height, channels = trainX.shape[1], trainX.shape[2], 1\n",
    "trainX = trainX.reshape((trainX.shape[0], width, height, channels))\n",
    "testX = testX.reshape((testX.shape[0], width, height, channels))\n",
    "# report per-image mean\n",
    "print('Means train=%.3f, test=%.3f' % (trainX.mean(), testX.mean()))\n",
    "# create generator that centers pixel values\n",
    "datagen = ImageDataGenerator(featurewise_center=True)\n",
    "# calculate the mean on the training dataset\n",
    "datagen.fit(trainX)\n",
    "print('Data Generator Mean: %.3f' % datagen.mean)\n",
    "# demonstrate effect on a single batch of samples\n",
    "iterator = datagen.flow(trainX, trainy, batch_size=64)\n",
    "# get a batch\n",
    "batchX, batchy = iterator.next()\n",
    "# mean pixel value in the batch\n",
    "print(batchX.shape, batchX.mean())\n",
    "# demonstrate effect on entire training dataset\n",
    "iterator = datagen.flow(trainX, trainy, batch_size=len(trainX), shuffle=False)\n",
    "# get a batch\n",
    "batchX, batchy = iterator.next()\n",
    "# mean pixel value in the batch\n",
    "print(batchX.shape, batchX.mean())"
   ]
  },
  {
   "cell_type": "markdown",
   "metadata": {},
   "source": [
    "Running the example first reports the mean pixel value for the train and test datasets.\n",
    "\n",
    "The MNIST dataset only has a single channel because the images are black and white (grayscale), but if the images were color, the mean pixel values would be calculated across all channels in all images in the training dataset, i.e. there would not be a separate mean value for each channel.\n",
    "\n",
    "The ImageDataGenerator is fit on the training dataset and we can confirm that the mean pixel value matches our own manual calculation.\n",
    "\n",
    "A single batch of centered images is retrieved and we can confirm that the mean pixel value is a small-ish value close to zero. The test is repeated using the entire training dataset as a the batch size, and in this case, the mean pixel value for the scaled dataset is a number very close to zero, confirming that centering is having the desired effect."
   ]
  },
  {
   "cell_type": "markdown",
   "metadata": {},
   "source": [
    "#### 5.Standardize Image With ImageDataGenerator\n",
    "\n",
    "Standardization is a data scaling technique that assumes that the distribution of the data is Gaussian and shifts the distribution of the data to have a mean of zero and a standard deviation of one.\n",
    "\n",
    "Data with this distribution is referred to as a standard Gaussian. It can be beneficial when training neural networks as the dataset sums to zero and the inputs are small values in the rough range of about -3.0 to 3.0 (e.g. 99.7 of the values will fall within three standard deviations of the mean).\n",
    "\n",
    "Standardization of images is achieved by subtracting the mean pixel value and dividing the result by the standard deviation of the pixel values.\n",
    "\n",
    "The mean and standard deviation statistics can be calculated on the training dataset, Keras refers to this as feature-wise.\n",
    "\n",
    "The statistics can also be calculated then used to standardize each image separately, and Keras refers to this as sample-wise standardization.\n",
    "\n",
    "We will demonstrate the former or feature-wise approach to image standardization in this section. The effect will be batches of images with an approximate mean of zero and a standard deviation of one."
   ]
  },
  {
   "cell_type": "code",
   "execution_count": 15,
   "metadata": {},
   "outputs": [
    {
     "name": "stdout",
     "output_type": "stream",
     "text": [
      "Statistics train=33.318 (78.567), test=33.791 (79.172)\n",
      "Data Generator mean=33.318, std=78.567\n",
      "(64, 28, 28, 1) 0.0035892464 1.0025008\n",
      "(60000, 28, 28, 1) -3.4560264e-07 0.9999998\n"
     ]
    }
   ],
   "source": [
    "# example of standardizing a image dataset\n",
    "from keras.datasets import mnist\n",
    "from keras.preprocessing.image import ImageDataGenerator\n",
    "# load dataset\n",
    "(trainX, trainy), (testX, testy) = mnist.load_data()\n",
    "# reshape dataset to have a single channel\n",
    "width, height, channels = trainX.shape[1], trainX.shape[2], 1\n",
    "trainX = trainX.reshape((trainX.shape[0], width, height, channels))\n",
    "testX = testX.reshape((testX.shape[0], width, height, channels))\n",
    "# report pixel means and standard deviations\n",
    "print('Statistics train=%.3f (%.3f), test=%.3f (%.3f)' % (trainX.mean(), trainX.std(), testX.mean(), testX.std()))\n",
    "# create generator that centers pixel values\n",
    "datagen = ImageDataGenerator(featurewise_center=True, featurewise_std_normalization=True)\n",
    "# calculate the mean on the training dataset\n",
    "datagen.fit(trainX)\n",
    "print('Data Generator mean=%.3f, std=%.3f' % (datagen.mean, datagen.std))\n",
    "# demonstrate effect on a single batch of samples\n",
    "iterator = datagen.flow(trainX, trainy, batch_size=64)\n",
    "# get a batch\n",
    "batchX, batchy = iterator.next()\n",
    "# pixel stats in the batch\n",
    "print(batchX.shape, batchX.mean(), batchX.std())\n",
    "# demonstrate effect on entire training dataset\n",
    "iterator = datagen.flow(trainX, trainy, batch_size=len(trainX), shuffle=False)\n",
    "# get a batch\n",
    "batchX, batchy = iterator.next()\n",
    "# pixel stats in the batch\n",
    "print(batchX.shape, batchX.mean(), batchX.std())"
   ]
  },
  {
   "cell_type": "markdown",
   "metadata": {},
   "source": [
    "Now that we have confirmed that the standardization of pixel values is being performed as we expect, we can apply the pixel scaling while fitting and evaluating a convolutional neural network model."
   ]
  },
  {
   "cell_type": "code",
   "execution_count": 16,
   "metadata": {},
   "outputs": [
    {
     "name": "stdout",
     "output_type": "stream",
     "text": [
      "Batches train=938, test=157\n",
      "Epoch 1/5\n",
      "938/938 [==============================] - 66s 70ms/step - loss: 0.1429 - accuracy: 0.9568\n",
      "Epoch 2/5\n",
      "938/938 [==============================] - 65s 69ms/step - loss: 0.0449 - accuracy: 0.9858\n",
      "Epoch 3/5\n",
      "938/938 [==============================] - 65s 69ms/step - loss: 0.0316 - accuracy: 0.9900\n",
      "Epoch 4/5\n",
      "938/938 [==============================] - 65s 69ms/step - loss: 0.0235 - accuracy: 0.9927\n",
      "Epoch 5/5\n",
      "938/938 [==============================] - 65s 69ms/step - loss: 0.0186 - accuracy: 0.9943\n",
      "Test Accuracy: 99.010\n"
     ]
    }
   ],
   "source": [
    "# example of using ImageDataGenerator to standardize images\n",
    "from keras.datasets import mnist\n",
    "from keras.utils import to_categorical\n",
    "from keras.models import Sequential\n",
    "from keras.layers import Conv2D\n",
    "from keras.layers import MaxPooling2D\n",
    "from keras.layers import Dense\n",
    "from keras.layers import Flatten\n",
    "from keras.preprocessing.image import ImageDataGenerator\n",
    "# load dataset\n",
    "(trainX, trainY), (testX, testY) = mnist.load_data()\n",
    "# reshape dataset to have a single channel\n",
    "width, height, channels = trainX.shape[1], trainX.shape[2], 1\n",
    "trainX = trainX.reshape((trainX.shape[0], width, height, channels))\n",
    "testX = testX.reshape((testX.shape[0], width, height, channels))\n",
    "# one hot encode target values\n",
    "trainY = to_categorical(trainY)\n",
    "testY = to_categorical(testY)\n",
    "# create generator to standardize images\n",
    "datagen = ImageDataGenerator(featurewise_center=True, featurewise_std_normalization=True)\n",
    "# calculate mean on training dataset\n",
    "datagen.fit(trainX)\n",
    "# prepare an iterators to scale images\n",
    "train_iterator = datagen.flow(trainX, trainY, batch_size=64)\n",
    "test_iterator = datagen.flow(testX, testY, batch_size=64)\n",
    "print('Batches train=%d, test=%d' % (len(train_iterator), len(test_iterator)))\n",
    "# define model\n",
    "model = Sequential()\n",
    "model.add(Conv2D(32, (3, 3), activation='relu', input_shape=(width, height, channels)))\n",
    "model.add(MaxPooling2D((2, 2)))\n",
    "model.add(Conv2D(64, (3, 3), activation='relu'))\n",
    "model.add(MaxPooling2D((2, 2)))\n",
    "model.add(Flatten())\n",
    "model.add(Dense(64, activation='relu'))\n",
    "model.add(Dense(10, activation='softmax'))\n",
    "# compile model\n",
    "model.compile(optimizer='adam', loss='categorical_crossentropy', metrics=['accuracy'])\n",
    "# fit model with generator\n",
    "model.fit_generator(train_iterator, steps_per_epoch=len(train_iterator), epochs=5)\n",
    "# evaluate model\n",
    "_, acc = model.evaluate_generator(test_iterator, steps=len(test_iterator), verbose=0)\n",
    "print('Test Accuracy: %.3f' % (acc * 100))"
   ]
  },
  {
   "cell_type": "markdown",
   "metadata": {},
   "source": [
    "## Convolutional Neural Networks\n",
    "\n",
    "A convolution is the simple application of a filter to an input that results in an activation. Repeated application of the same filter to an input results in a map of activations called a feature map, indicating the locations and strength of a detected feature in an input, such as an image.\n",
    "A convolutional layer can be created by specifying both the number of filters to learn and the fixed size of each filter, often called the kernel shape.\n",
    "\n",
    "Pooling layers provide an approach to downsampling feature maps by summarizing the presence of features in patches of the feature map.\n",
    "Maximum pooling, or max pooling, is a pooling operation that calculates the maximum, or largest, value in each patch of each feature map.\n",
    "\n",
    "Classifier Layer,\n",
    "Once the features have been extracted, they can be interpreted and used to make a prediction, such as classifying the type of object in a photograph.\n",
    "\n",
    "This can be achieved by first flattening the two-dimensional feature maps, and then adding a fully connected output layer. For a binary classification problem, the output layer would have one node that would predict a value between 0 and 1 for the two classes."
   ]
  },
  {
   "cell_type": "markdown",
   "metadata": {},
   "source": [
    "## Image Classification\n",
    "Deep convolutional neural network models may take days, or even weeks, to train on very large datasets.\n",
    "A way to short-cut this process is to re-use the model weights from pre-trained models that were developed for standard computer vision benchmark datasets, such as the ImageNet image recognition tasks.\n",
    "The example below uses the VGG-16 pre-trained model to classify photographs of objects into one of 1,000 known classes."
   ]
  },
  {
   "cell_type": "code",
   "execution_count": 17,
   "metadata": {},
   "outputs": [
    {
     "name": "stdout",
     "output_type": "stream",
     "text": [
      "Doberman (33.59%)\n"
     ]
    }
   ],
   "source": [
    "# example of using a pre-trained model as a classifier\n",
    "from keras.preprocessing.image import load_img\n",
    "from keras.preprocessing.image import img_to_array\n",
    "from keras.applications.vgg16 import preprocess_input\n",
    "from keras.applications.vgg16 import decode_predictions\n",
    "from keras.applications.vgg16 import VGG16\n",
    "# load an image from file\n",
    "image = load_img('C:\\\\Users\\\\user\\\\Desktop\\\\ML\\\\Data\\\\dog.jpg', target_size=(224, 224))\n",
    "# convert the image pixels to a numpy array\n",
    "image = img_to_array(image)\n",
    "# reshape data for the model\n",
    "image = image.reshape((1, image.shape[0], image.shape[1], image.shape[2]))\n",
    "# prepare the image for the VGG model\n",
    "image = preprocess_input(image)\n",
    "# load the model\n",
    "model = VGG16()\n",
    "# predict the probability across all output classes\n",
    "yhat = model.predict(image)\n",
    "# convert the probabilities to class labels\n",
    "label = decode_predictions(yhat)\n",
    "# retrieve the most likely result, e.g. highest probability\n",
    "label = label[0][0]\n",
    "# print the classification\n",
    "print('%s (%.2f%%)' % (label[1], label[2]*100))"
   ]
  },
  {
   "cell_type": "markdown",
   "metadata": {},
   "source": [
    "## Train Image Classification Model\n",
    "\n",
    "We will discover how to train and evaluate a convolutional neural network for image classification.\n",
    "The Fashion-MNIST clothing classification problem is a new standard dataset used in computer vision and deep learning.\n",
    "It is a dataset comprised of 60,000 small square 28×28 pixel grayscale images of items of 10 types of clothing, such as shoes, t-shirts, dresses, and more."
   ]
  },
  {
   "cell_type": "code",
   "execution_count": 18,
   "metadata": {},
   "outputs": [
    {
     "name": "stdout",
     "output_type": "stream",
     "text": [
      "Epoch 1/10\n",
      " - 49s - loss: 0.3906 - accuracy: 0.8610\n",
      "Epoch 2/10\n",
      " - 48s - loss: 0.2662 - accuracy: 0.9035\n",
      "Epoch 3/10\n",
      " - 48s - loss: 0.2203 - accuracy: 0.9196\n",
      "Epoch 4/10\n",
      " - 48s - loss: 0.1923 - accuracy: 0.9295\n",
      "Epoch 5/10\n",
      " - 48s - loss: 0.1644 - accuracy: 0.9392\n",
      "Epoch 6/10\n",
      " - 48s - loss: 0.1419 - accuracy: 0.9476\n",
      "Epoch 7/10\n",
      " - 48s - loss: 0.1235 - accuracy: 0.9541\n",
      "Epoch 8/10\n",
      " - 48s - loss: 0.1062 - accuracy: 0.9613\n",
      "Epoch 9/10\n",
      " - 48s - loss: 0.0906 - accuracy: 0.9674\n",
      "Epoch 10/10\n",
      " - 48s - loss: 0.0802 - accuracy: 0.9708\n",
      "0.3312912778586149 0.909600019454956\n"
     ]
    }
   ],
   "source": [
    "# fit a cnn on the fashion mnist dataset\n",
    "from keras.datasets import fashion_mnist\n",
    "from keras.utils import to_categorical\n",
    "from keras.models import Sequential\n",
    "from keras.layers import Conv2D\n",
    "from keras.layers import MaxPooling2D\n",
    "from keras.layers import Dense\n",
    "from keras.layers import Flatten\n",
    "# load dataset\n",
    "(trainX, trainY), (testX, testY) = fashion_mnist.load_data()\n",
    "# reshape dataset to have a single channel\n",
    "trainX = trainX.reshape((trainX.shape[0], 28, 28, 1))\n",
    "testX = testX.reshape((testX.shape[0], 28, 28, 1))\n",
    "# convert from integers to floats\n",
    "trainX, testX = trainX.astype('float32'), testX.astype('float32')\n",
    "# normalize to range 0-1\n",
    "trainX,testX  = trainX / 255.0, testX / 255.0\n",
    "# one hot encode target values\n",
    "trainY, testY = to_categorical(trainY), to_categorical(testY)\n",
    "# define model\n",
    "model = Sequential()\n",
    "model.add(Conv2D(32, (3, 3), activation='relu', kernel_initializer='he_uniform', input_shape=(28, 28, 1)))\n",
    "model.add(MaxPooling2D())\n",
    "model.add(Flatten())\n",
    "model.add(Dense(100, activation='relu', kernel_initializer='he_uniform'))\n",
    "model.add(Dense(10, activation='softmax'))\n",
    "model.compile(optimizer='adam', loss='categorical_crossentropy', metrics=['accuracy'])\n",
    "# fit model\n",
    "model.fit(trainX, trainY, epochs=10, batch_size=32, verbose=2)\n",
    "# evaluate model\n",
    "loss, acc = model.evaluate(testX, testY, verbose=0)\n",
    "print(loss, acc)"
   ]
  },
  {
   "cell_type": "markdown",
   "metadata": {},
   "source": [
    "## Image Augmentation\n",
    "Image data augmentation is a technique that can be used to artificially expand the size of a training dataset by creating modified versions of images in the dataset.\n",
    "Training deep learning neural network models on more data can result in more skillful models, and the augmentation techniques can create variations of the images that can improve the ability of the fit models to generalize what they have learned to new images.\n",
    "The Keras deep learning neural network library provides the capability to fit models using image data augmentation via the ImageDataGenerator class.\n",
    "\n",
    "The example below will load the photograph as a dataset and use image augmentation to create flipped and rotated versions of the image that can be used to train a convolutional neural network model."
   ]
  },
  {
   "cell_type": "code",
   "execution_count": 19,
   "metadata": {},
   "outputs": [
    {
     "data": {
      "image/png": "[encoded data removed]",
      "text/plain": [
       "<Figure size 432x288 with 9 Axes>"
      ]
     },
     "metadata": {
      "needs_background": "light"
     },
     "output_type": "display_data"
    }
   ],
   "source": [
    "# example using image augmentation\n",
    "from numpy import expand_dims\n",
    "from keras.preprocessing.image import load_img\n",
    "from keras.preprocessing.image import img_to_array\n",
    "from keras.preprocessing.image import ImageDataGenerator\n",
    "from matplotlib import pyplot\n",
    "# load the image\n",
    "img = load_img('C:\\\\Users\\\\user\\\\Desktop\\\\ML\\\\Data\\\\bird.jpg')\n",
    "# convert to numpy array\n",
    "data = img_to_array(img)\n",
    "# expand dimension to one sample\n",
    "samples = expand_dims(data, 0)\n",
    "# create image data augmentation generator\n",
    "datagen = ImageDataGenerator(horizontal_flip=True, vertical_flip=True, rotation_range=90)\n",
    "# prepare iterator\n",
    "it = datagen.flow(samples, batch_size=1)\n",
    "# generate samples and plot\n",
    "for i in range(9):\n",
    "     # define subplot\n",
    "     pyplot.subplot(330 + 1 + i)\n",
    "     # generate batch of images\n",
    "     batch = it.next()\n",
    "     # convert to unsigned integers for viewing\n",
    "     image = batch[0].astype('uint32')\n",
    "     # plot raw pixel data\n",
    "     pyplot.imshow(image)\n",
    "# show the figure\n",
    "pyplot.show()"
   ]
  },
  {
   "cell_type": "markdown",
   "metadata": {},
   "source": [
    "## Face Detection\n",
    "\n",
    "We will discover how to use a convolutional neural network for face detection.\n",
    "Face detection is a trivial problem for humans to solve and has been solved reasonably well by classical feature-based techniques, such as the cascade classifier.\n",
    "More recently, deep learning methods have achieved state-of-the-art results on standard face detection datasets. One example is the Multi-task Cascade Convolutional Neural Network, or MTCNN for short.\n",
    "The ipazc/MTCNN project provides an open source implementation of the MTCNN."
   ]
  },
  {
   "cell_type": "code",
   "execution_count": null,
   "metadata": {},
   "outputs": [],
   "source": [
    "# face detection with mtcnn on a photograph\n",
    "from matplotlib import pyplot\n",
    "from matplotlib.patches import Rectangle\n",
    "from mtcnn.mtcnn import MTCNN\n",
    "# load image from file\n",
    "pixels = pyplot.imread('C:\\\\Users\\\\user\\\\Desktop\\\\ML\\\\Data\\\\street.jpg')\n",
    "# create the detector, using default weights\n",
    "detector = MTCNN()\n",
    "# detect faces in the image\n",
    "faces = detector.detect_faces(pixels)\n",
    "# plot the image\n",
    "pyplot.imshow(pixels)\n",
    "# get the context for drawing boxes\n",
    "ax = pyplot.gca()\n",
    "# get coordinates from the first face\n",
    "x, y, width, height = faces[0]['box']\n",
    "# create the shape\n",
    "rect = Rectangle((x, y), width, height, fill=False, color='red')\n",
    "# draw the box\n",
    "ax.add_patch(rect)\n",
    "# show the plot\n",
    "pyplot.show()"
   ]
  },
  {
   "cell_type": "code",
   "execution_count": null,
   "metadata": {},
   "outputs": [],
   "source": []
  },
  {
   "cell_type": "code",
   "execution_count": null,
   "metadata": {},
   "outputs": [],
   "source": []
  },
  {
   "cell_type": "code",
   "execution_count": null,
   "metadata": {},
   "outputs": [],
   "source": []
  },
  {
   "cell_type": "code",
   "execution_count": null,
   "metadata": {},
   "outputs": [],
   "source": []
  }
 ],
 "metadata": {
  "kernelspec": {
   "display_name": "Python 3",
   "language": "python",
   "name": "python3"
  },
  "language_info": {
   "codemirror_mode": {
    "name": "ipython",
    "version": 3
   },
   "file_extension": ".py",
   "mimetype": "text/x-python",
   "name": "python",
   "nbconvert_exporter": "python",
   "pygments_lexer": "ipython3",
   "version": "3.7.4"
  }
 },
 "nbformat": 4,
 "nbformat_minor": 2
}
