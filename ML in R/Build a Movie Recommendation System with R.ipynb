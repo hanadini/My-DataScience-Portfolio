{
 "cells": [
  {
   "cell_type": "markdown",
   "metadata": {},
   "source": [
    "# Build a Movie Recommendation System in R"
   ]
  },
  {
   "cell_type": "markdown",
   "metadata": {},
   "source": [
    "A recommendation system provides suggestions to the users through a filtering process that is based on user preferences and browsing history. The information about the user is taken as an input. The information is taken from the input that is in the form of browsing data. This information reflects the prior usage of the product as well as the assigned ratings.\n",
    "\n",
    "A recommendation system also finds a similarity between the different products. For example, Netflix Recommendation System provides you with the recommendations of the movies that are similar to the ones that have been watched in the past. Furthermore, there is a collaborative content filtering that provides you with the recommendations in respect with the other users who might have a similar viewing history or preferences. \n",
    "\n",
    "There are two types of recommendation systems:\n",
    "- Content-Based Recommendation System \n",
    "- Collaborative Filtering Recommendation. \n",
    "\n",
    "In this project of recommendation system in R, we will work on a collaborative filtering recommendation system and more specifically, **ITEM based collaborative recommendation system**."
   ]
  },
  {
   "cell_type": "markdown",
   "metadata": {},
   "source": [
    "## Retrieving the Data\n",
    "We will now retrieve our data from movies.csv into movie_data dataframe and ratings.csv into rating_data. We will use the str() function to display information about the movie_data dataframe.\n",
    "\n",
    "This data consists of 105339 ratings applied over 10329 movies."
   ]
  },
  {
   "cell_type": "code",
   "execution_count": null,
   "metadata": {},
   "outputs": [],
   "source": [
    "#Importing Essential Libraries\n",
    "library(recommenderlab)\n",
    "library(ggplot2)                     \n",
    "library(data.table)\n",
    "library(reshape2)\n",
    "\n",
    "#Retrieving the Data\n",
    "movie_data <- read.csv(\"C:\\\\Users\\\\user\\\\Desktop\\\\ML\\\\R\\\\Movie recommendation dataset\\\\movies.csv\",stringsAsFactors=FALSE)\n",
    "rating_data <- read.csv(\"C:\\\\Users\\\\user\\\\Desktop\\\\ML\\\\R\\\\Movie recommendation dataset\\\\ratings.csv\")\n",
    "str(movie_data)\n",
    "\n",
    "#Summary\n",
    "summary(movie_data)\n",
    "head(movie_data)\n",
    "\n",
    "summary(rating_data)\n",
    "head(rating_data)"
   ]
  },
  {
   "cell_type": "code",
   "execution_count": null,
   "metadata": {},
   "outputs": [],
   "source": [
    "'data.frame':   10329 obs. of  3 variables:\n",
    " $ movieId: int  1 2 3 4 5 6 7 8 9 10 ...\n",
    " $ title  : chr  \"Toy Story (1995)\" \"Jumanji (1995)\" \"Grumpier Old Men (1995)\" \"Waiting to Exhale (1995)\" ...\n",
    " $ genres : chr  \"Adventure|Animation|Children|Comedy|Fantasy\" \"Adventure|Children|Fantasy\" \"Comedy|Romance\" \"Comedy|Drama|Romance\" ..."
   ]
  },
  {
   "cell_type": "code",
   "execution_count": null,
   "metadata": {},
   "outputs": [],
   "source": [
    " movieId          title              genres  \n",
    " Min.   :     1   Length:10329       Length:10329  \n",
    " 1st Qu.:  3240   Class :character   Class :character \n",
    " Median :  7088   Mode  :character   Mode  :character \n",
    " Mean   : 31924    \n",
    " 3rd Qu.: 59900   \n",
    " Max.   :149532 "
   ]
  },
  {
   "cell_type": "code",
   "execution_count": null,
   "metadata": {},
   "outputs": [],
   "source": [
    " movieId                              title \n",
    "1       1                   Toy Story (1995)\n",
    "2       2                     Jumanji (1995)\n",
    "3       3            Grumpier Old Men (1995)\n",
    "4       4           Waiting to Exhale (1995)\n",
    "5       5 Father of the Bride Part II (1995)\n",
    "6       6                        Heat (1995)\n",
    "                                       genres                                      \n",
    "1 Adventure|Animation|Children|Comedy|Fantasy\n",
    "2                  Adventure|Children|Fantasy\n",
    "3                              Comedy|Romance\n",
    "4                        Comedy|Drama|Romance\n",
    "5                                      Comedy\n",
    "6                       Action|Crime|Thriller"
   ]
  },
  {
   "cell_type": "code",
   "execution_count": null,
   "metadata": {},
   "outputs": [],
   "source": [
    "     userId         movieId           rating         \n",
    " Min.   :  1.0   Min.   :     1   Min.   :0.500   \n",
    " 1st Qu.:192.0   1st Qu.:  1073   1st Qu.:3.000   \n",
    " Median :383.0   Median :  2497   Median :3.500   \n",
    " Mean   :364.9   Mean   : 13381   Mean   :3.517   \n",
    " 3rd Qu.:557.0   3rd Qu.:  5991   3rd Qu.:4.000   \n",
    " Max.   :668.0   Max.   :149532   Max.   :5.000   \n",
    "   timestamp           \n",
    " Min.   :8.286e+08   \n",
    " 1st Qu.:9.711e+08   \n",
    " Median :1.115e+09   \n",
    " Mean   :1.130e+09   \n",
    " 3rd Qu.:1.275e+09   \n",
    " Max.   :1.452e+09"
   ]
  },
  {
   "cell_type": "code",
   "execution_count": null,
   "metadata": {},
   "outputs": [],
   "source": [
    "      userId movieId rating  timestamp\n",
    "    1      1      16    4.0 1217897793\n",
    "    2      1      24    1.5 1217895807\n",
    "    3      1      32    4.0 1217896246\n",
    "    4      1      47    4.0 1217896556\n",
    "    5      1      50    4.0 1217896523\n",
    "    6      1     110    4.0 1217896150\n"
   ]
  },
  {
   "cell_type": "markdown",
   "metadata": {},
   "source": [
    "## Data Pre-processing\n",
    "From the above table, we observe that the userId column, as well as the movieId column, consist of integers. Furthermore, we need to convert the genres present in the movie_data dataframe into a more usable format by the users. In order to do so, we will first create a **one-hot encoding** to create a matrix that comprises of corresponding genres for each of the films."
   ]
  },
  {
   "cell_type": "code",
   "execution_count": null,
   "metadata": {},
   "outputs": [],
   "source": [
    "movie_genre <- as.data.frame(movie_data$genres, stringsAsFactors=FALSE)\n",
    "library(data.table)\n",
    "movie_genre2 <- as.data.frame(tstrsplit(movie_genre[,1], '[|]', \n",
    "                                   type.convert=TRUE), \n",
    "                         stringsAsFactors=FALSE)\n",
    "colnames(movie_genre2) <- c(1:10)\n",
    "list_genre <- c(\"Action\", \"Adventure\", \"Animation\", \"Children\", \n",
    "                \"Comedy\", \"Crime\",\"Documentary\", \"Drama\", \"Fantasy\",\n",
    "                \"Film-Noir\", \"Horror\", \"Musical\", \"Mystery\",\"Romance\",\n",
    "                \"Sci-Fi\", \"Thriller\", \"War\", \"Western\")\n",
    "genre_mat1 <- matrix(0,10330,18)\n",
    "genre_mat1[1,] <- list_genre\n",
    "colnames(genre_mat1) <- list_genre\n",
    "for (index in 1:nrow(movie_genre2)) {\n",
    "  for (col in 1:ncol(movie_genre2)) {\n",
    "    gen_col = which(genre_mat1[1,] == movie_genre2[index,col])\n",
    "    genre_mat1[index+1,gen_col] <- 1\n",
    "}\n",
    "}\n",
    "genre_mat2 <- as.data.frame(genre_mat1[-1,], stringsAsFactors=FALSE) #remove first row, which was the genre list\n",
    "for (col in 1:ncol(genre_mat2)) {\n",
    "  genre_mat2[,col] <- as.integer(genre_mat2[,col]) #convert from characters to integers\n",
    "} \n",
    "str(genre_mat2)"
   ]
  },
  {
   "cell_type": "code",
   "execution_count": null,
   "metadata": {},
   "outputs": [],
   "source": [
    "'data.frame':   10329 obs. of  18 variables:\n",
    " $ Action     : int  0 0 0 0 0 1 0 0 1 1 ...\n",
    " $ Adventure  : int  1 1 0 0 0 0 0 1 0 1 ...\n",
    " $ Animation  : int  1 0 0 0 0 0 0 0 0 0 ...\n",
    " $ Children   : int  1 1 0 0 0 0 0 1 0 0 ...\n",
    " $ Comedy     : int  1 0 1 1 1 0 1 0 0 0 ...\n",
    " $ Crime      : int  0 0 0 0 0 1 0 0 0 0 ...\n",
    " $ Documentary: int  0 0 0 0 0 0 0 0 0 0 ...\n",
    " $ Drama      : int  0 0 0 1 0 0 0 0 0 0 ...\n",
    " $ Fantasy    : int  1 1 0 0 0 0 0 0 0 0 ...\n",
    " $ Film-Noir  : int  0 0 0 0 0 0 0 0 0 0 ...\n",
    " $ Horror     : int  0 0 0 0 0 0 0 0 0 0 ...\n",
    " $ Musical    : int  0 0 0 0 0 0 0 0 0 0 ...\n",
    " $ Mystery    : int  0 0 0 0 0 0 0 0 0 0 ...\n",
    " $ Romance    : int  0 0 1 1 0 0 1 0 0 0 ...\n",
    " $ Sci-Fi     : int  0 0 0 0 0 0 0 0 0 0 ...\n",
    " $ Thriller   : int  0 0 0 0 0 1 0 0 0 1 ...\n",
    " $ War        : int  0 0 0 0 0 0 0 0 0 0 ...\n",
    " $ Western    : int  0 0 0 0 0 0 0 0 0 0 ...\n"
   ]
  },
  {
   "cell_type": "markdown",
   "metadata": {},
   "source": [
    "In the next step of Data Pre-processing, we will create a **‘search matrix’** that will allow us to perform an easy search of the films by specifying the genre present in our list."
   ]
  },
  {
   "cell_type": "code",
   "execution_count": null,
   "metadata": {},
   "outputs": [],
   "source": [
    "SearchMatrix <- cbind(movie_data[,1:2], genre_mat2[])\n",
    "head(SearchMatrix)"
   ]
  },
  {
   "cell_type": "code",
   "execution_count": null,
   "metadata": {},
   "outputs": [],
   "source": [
    "    movieId                              title Action Adventure Animation Children Comedy Crime Documentary Drama Fantasy Film-Noir Horror Musical Mystery Romance\n",
    "1       1                   Toy Story (1995)      0         1         1        1      1     0           0     0       1         0      0       0       0       0\n",
    "2       2                     Jumanji (1995)      0         1         0        1      0     0           0     0       1         0      0       0       0       0\n",
    "3       3            Grumpier Old Men (1995)      0         0         0        0      1     0           0     0       0         0      0       0       0       1\n",
    "4       4           Waiting to Exhale (1995)      0         0         0        0      1     0           0     1       0         0      0       0       0       1\n",
    "5       5 Father of the Bride Part II (1995)      0         0         0        0      1     0           0     0       0         0      0       0       0       0\n",
    "6       6                        Heat (1995)      1         0         0        0      0     1           0     0       0         0      0       0       0       0\n",
    "  Sci-Fi Thriller War Western\n",
    "1      0        0   0       0\n",
    "2      0        0   0       0\n",
    "3      0        0   0       0\n",
    "4      0        0   0       0\n",
    "5      0        0   0       0\n",
    "6      0        1   0       0\n"
   ]
  },
  {
   "cell_type": "markdown",
   "metadata": {},
   "source": [
    "There are movies that have several genres, for example, Toy Story, which is an animated film also falls under the genres of Comedy, Fantasy, and Children. This applies to the majority of the films.\n",
    "\n",
    "For our movie recommendation system to make sense of our ratings through recommenderlabs, we have to convert our matrix into a **sparse matrix** one. This new matrix is of the class **‘realRatingMatrix’**."
   ]
  },
  {
   "cell_type": "code",
   "execution_count": null,
   "metadata": {},
   "outputs": [],
   "source": [
    "ratingMatrix <- dcast(rating_data, userId~movieId, value.var = \"rating\", na.rm=FALSE)\n",
    "ratingMatrix <- as.matrix(ratingMatrix[,-1]) #remove userIds\n",
    "#Convert rating matrix into a recommenderlab sparse matrix\n",
    "ratingMatrix <- as(ratingMatrix, \"realRatingMatrix\")\n",
    "ratingMatrix"
   ]
  },
  {
   "cell_type": "markdown",
   "metadata": {},
   "source": [
    "*668 x 10325 rating matrix of class ‘realRatingMatrix’ with 105339 ratings.*"
   ]
  },
  {
   "cell_type": "markdown",
   "metadata": {},
   "source": [
    "Let us now overview some of the **important parameters** that provide us various options for building recommendation systems for movies:"
   ]
  },
  {
   "cell_type": "code",
   "execution_count": null,
   "metadata": {},
   "outputs": [],
   "source": [
    "recommendation_model <- recommenderRegistry$get_entries(dataType = \"realRatingMatrix\")\n",
    "names(recommendation_model)"
   ]
  },
  {
   "cell_type": "code",
   "execution_count": null,
   "metadata": {},
   "outputs": [],
   "source": [
    "[1] \"ALS_realRatingMatrix\"          \"ALS_implicit_realRatingMatrix\" \"IBCF_realRatingMatrix\"         \"LIBMF_realRatingMatrix\"        \"POPULAR_realRatingMatrix\"     \n",
    " [6] \"RANDOM_realRatingMatrix\"       \"RERECOMMEND_realRatingMatrix\"  \"SVD_realRatingMatrix\"          \"SVDF_realRatingMatrix\"         \"UBCF_realRatingMatrix\"        \n"
   ]
  },
  {
   "cell_type": "code",
   "execution_count": null,
   "metadata": {},
   "outputs": [],
   "source": [
    "lapply(recommendation_model, \"[[\", \"description\")"
   ]
  },
  {
   "cell_type": "code",
   "execution_count": null,
   "metadata": {},
   "outputs": [],
   "source": [
    "$ALS_realRatingMatrix\n",
    "[1] \"Recommender for explicit ratings based on latent factors, calculated by alternating least squares algorithm.\"\n",
    "\n",
    "$ALS_implicit_realRatingMatrix\n",
    "[1] \"Recommender for implicit data based on latent factors, calculated by alternating least squares algorithm.\"\n",
    "\n",
    "$IBCF_realRatingMatrix\n",
    "[1] \"Recommender based on item-based collaborative filtering.\"\n",
    "\n",
    "$LIBMF_realRatingMatrix\n",
    "[1] \"Matrix factorization with LIBMF via package recosystem (https://cran.r-project.org/web/packages/recosystem/vignettes/introduction.html).\"\n",
    "\n",
    "$POPULAR_realRatingMatrix\n",
    "[1] \"Recommender based on item popularity.\"\n",
    "\n",
    "$RANDOM_realRatingMatrix\n",
    "[1] \"Produce random recommendations (real ratings).\"\n",
    "\n",
    "$RERECOMMEND_realRatingMatrix\n",
    "[1] \"Re-recommends highly rated items (real ratings).\"\n",
    "\n",
    "$SVD_realRatingMatrix\n",
    "[1] \"Recommender based on SVD approximation with column-mean imputation.\"\n",
    "\n",
    "$SVDF_realRatingMatrix\n",
    "[1] \"Recommender based on Funk SVD with gradient descend (https://sifter.org/~simon/journal/20061211.html).\"\n",
    "\n",
    "$UBCF_realRatingMatrix\n",
    "[1] \"Recommender based on user-based collaborative filtering.\""
   ]
  },
  {
   "cell_type": "markdown",
   "metadata": {},
   "source": [
    "We will implement a single model in our R project, **Item Based Collaborative Filtering**."
   ]
  },
  {
   "cell_type": "code",
   "execution_count": null,
   "metadata": {},
   "outputs": [],
   "source": [
    "recommendation_model$IBCF_realRatingMatrix$parameters"
   ]
  },
  {
   "cell_type": "code",
   "execution_count": null,
   "metadata": {},
   "outputs": [],
   "source": [
    "$k\n",
    "[1] 30\n",
    "\n",
    "$method\n",
    "[1] \"Cosine\"\n",
    "\n",
    "$normalize\n",
    "[1] \"center\"\n",
    "\n",
    "$normalize_sim_matrix\n",
    "[1] FALSE\n",
    "\n",
    "$alpha\n",
    "[1] 0.5\n",
    "\n",
    "$na_as_zero\n",
    "[1] FALSE"
   ]
  },
  {
   "cell_type": "markdown",
   "metadata": {},
   "source": [
    "## Exploring Similar Data\n",
    "\n",
    "Collaborative Filtering involves suggesting movies to the users that are based on collecting preferences from many other users. For example, if a user A likes to watch action films and so does user B, then the movies that the user B will watch in the future will be recommended to A and vice-versa. Therefore, recommending movies is dependent on creating a relationship of similarity between the two users. With the help of recommenderlab, we can compute similarities using various operators like cosine, pearson as well as jaccard."
   ]
  },
  {
   "cell_type": "code",
   "execution_count": null,
   "metadata": {},
   "outputs": [],
   "source": [
    "similarity_mat <- similarity(ratingMatrix[1:4, ],\n",
    "                               method = \"cosine\",\n",
    "                               which = \"users\")\n",
    "as.matrix(similarity_mat)\n",
    "image(as.matrix(similarity_mat), main = \"User's Similarities\")"
   ]
  },
  {
   "cell_type": "code",
   "execution_count": null,
   "metadata": {},
   "outputs": [],
   "source": [
    "        1         2         3         4\n",
    "1 0.0000000 0.9760860 0.9641723 0.9914398\n",
    "2 0.9760860 0.0000000 0.9925732 0.9374253\n",
    "3 0.9641723 0.9925732 0.0000000 0.9888968\n",
    "4 0.9914398 0.9374253 0.9888968 0.0000000\n"
   ]
  },
  {
   "cell_type": "markdown",
   "metadata": {},
   "source": [
    "In the above matrix, each row and column represents a user. We have taken four users and each cell in this matrix represents the similarity that is shared between the two users.\n",
    "\n",
    "Now, we delineate the similarity that is shared between the films."
   ]
  },
  {
   "cell_type": "code",
   "execution_count": null,
   "metadata": {},
   "outputs": [],
   "source": [
    "movie_similarity <- similarity(ratingMatrix[, 1:4], method =\n",
    "                                 \"cosine\", which = \"items\")\n",
    "as.matrix(movie_similarity)\n",
    "image(as.matrix(movie_similarity), main = \"Movies similarity\")"
   ]
  },
  {
   "cell_type": "code",
   "execution_count": null,
   "metadata": {},
   "outputs": [],
   "source": [
    "         1         2         3         4\n",
    "1 0.0000000 0.9669732 0.9559341 0.9101276\n",
    "2 0.9669732 0.0000000 0.9658757 0.9412416\n",
    "3 0.9559341 0.9658757 0.0000000 0.9864877\n",
    "4 0.9101276 0.9412416 0.9864877 0.0000000\n"
   ]
  },
  {
   "cell_type": "markdown",
   "metadata": {},
   "source": [
    "Let us now extract the most unique ratings:"
   ]
  },
  {
   "cell_type": "code",
   "execution_count": null,
   "metadata": {},
   "outputs": [],
   "source": [
    "rating_values <- as.vector(ratingMatrix@data)\n",
    "unique(rating_values) # extracting unique ratings"
   ]
  },
  {
   "cell_type": "code",
   "execution_count": null,
   "metadata": {
    "slideshow": {
     "slide_type": "-"
    }
   },
   "outputs": [],
   "source": [
    "[1] 0.0 5.0 4.0 3.0 4.5 1.5 2.0 3.5 1.0 2.5 0.5"
   ]
  },
  {
   "cell_type": "markdown",
   "metadata": {},
   "source": [
    "Now, we will create a table of ratings that will display the most unique ratings."
   ]
  },
  {
   "cell_type": "code",
   "execution_count": null,
   "metadata": {},
   "outputs": [],
   "source": [
    "Table_of_Ratings <- table(rating_values) # creating a count of movie ratings\n",
    "Table_of_Ratings"
   ]
  },
  {
   "cell_type": "code",
   "execution_count": null,
   "metadata": {},
   "outputs": [],
   "source": [
    "rating_values\n",
    "      0     0.5       1     1.5       2     2.5       3     3.5       4     4.5       5 \n",
    "6791761    1198    3258    1567    7943    5484   21729   12237   28880    8187   14856 "
   ]
  },
  {
   "cell_type": "markdown",
   "metadata": {},
   "source": [
    "## Most Viewed Movies Visualization\n",
    "In this section, we will explore the most viewed movies in our dataset. We will first count the number of views in a film and then organize them in a table that would group them in descending order."
   ]
  },
  {
   "cell_type": "code",
   "execution_count": null,
   "metadata": {},
   "outputs": [],
   "source": [
    "library(ggplot2)\n",
    "movie_views <- colCounts(ratingMatrix) # count views for each movie\n",
    "table_views <- data.frame(movie = names(movie_views),\n",
    "                          views = movie_views) # create dataframe of views\n",
    "table_views <- table_views[order(table_views$views,\n",
    "                                 decreasing = TRUE), ] # sort by number of views\n",
    "table_views$title <- NA\n",
    "for (index in 1:10325){\n",
    "  table_views[index,3] <- as.character(subset(movie_data,\n",
    "                                         movie_data$movieId == table_views[index,1])$title)\n",
    "}\n",
    "table_views[1:6,]"
   ]
  },
  {
   "cell_type": "code",
   "execution_count": null,
   "metadata": {},
   "outputs": [],
   "source": [
    " movie views                                     title\n",
    "296   296   325                       Pulp Fiction (1994)\n",
    "356   356   311                       Forrest Gump (1994)\n",
    "318   318   308          Shawshank Redemption, The (1994)\n",
    "480   480   294                      Jurassic Park (1993)\n",
    "593   593   290          Silence of the Lambs, The (1991)\n",
    "260   260   273 Star Wars: Episode IV - A New Hope (1977)\n"
   ]
  },
  {
   "cell_type": "markdown",
   "metadata": {},
   "source": [
    "Now, we will visualize a bar plot for the total number of views of the top films. We will carry this out using **ggplot2**."
   ]
  },
  {
   "cell_type": "code",
   "execution_count": null,
   "metadata": {},
   "outputs": [],
   "source": [
    "ggplot(table_views[1:6, ], aes(x = title, y = views)) +\n",
    "  geom_bar(stat=\"identity\", fill = 'steelblue') +\n",
    "  geom_text(aes(label=views), vjust=-0.3, size=3.5) +\n",
    "  theme(axis.text.x = element_text(angle = 45, hjust = 1)) +\n",
    "  ggtitle(\"Total Views of the Top Films\")"
   ]
  },
  {
   "cell_type": "markdown",
   "metadata": {},
   "source": [
    "## Heatmap of Movie Ratings\n",
    "Now, we will visualize a heatmap of the movie ratings. This heatmap will contain first **20 rows** and **25 columns**."
   ]
  },
  {
   "cell_type": "code",
   "execution_count": null,
   "metadata": {},
   "outputs": [],
   "source": [
    "image(ratingMatrix[1:20, 1:25], axes = FALSE, main = \"Heatmap of the first 20 rows and 25 columns\")"
   ]
  },
  {
   "cell_type": "markdown",
   "metadata": {},
   "source": [
    "## Performing Data Preparation\n",
    "We will conduct data preparation in the following three steps:\n",
    "- Selecting useful data.\n",
    "- Normalizing data.\n",
    "- Binarizing the data.\n",
    "\n",
    "For finding useful data in our dataset, we have set the **threshold** for the minimum number of users who have rated a film as **50**. This is also same for minimum number of views that are per film. This way, we have filtered a list of watched films from least-watched ones."
   ]
  },
  {
   "cell_type": "code",
   "execution_count": null,
   "metadata": {},
   "outputs": [],
   "source": [
    "movie_ratings <- ratingMatrix[rowCounts(ratingMatrix) > 50,\n",
    "                             colCounts(ratingMatrix) > 50]\n",
    "Movie_ratings"
   ]
  },
  {
   "cell_type": "markdown",
   "metadata": {},
   "source": [
    "*420 x 447 rating matrix of class 'realRatingMatrix' with 38341 ratings.*"
   ]
  },
  {
   "cell_type": "markdown",
   "metadata": {},
   "source": [
    "From the above output of ‘movie_ratings’, we observe that there are 420 users and 447 films as opposed to the previous 668 users and 10325 films. We can now delineate our matrix of relevant users"
   ]
  },
  {
   "cell_type": "code",
   "execution_count": null,
   "metadata": {},
   "outputs": [],
   "source": [
    "minimum_movies<- quantile(rowCounts(movie_ratings), 0.98)\n",
    "minimum_users <- quantile(colCounts(movie_ratings), 0.98)\n",
    "image(movie_ratings[rowCounts(movie_ratings) > minimum_movies,\n",
    "                     colCounts(movie_ratings) > minimum_users],\n",
    "main = \"Heatmap of the top users and movies\")"
   ]
  },
  {
   "cell_type": "markdown",
   "metadata": {},
   "source": [
    "Now, we will visualize the distribution of the average ratings per user."
   ]
  },
  {
   "cell_type": "code",
   "execution_count": null,
   "metadata": {},
   "outputs": [],
   "source": [
    "average_ratings <- rowMeans(movie_ratings)\n",
    "qplot(average_ratings, fill=I(\"steelblue\"), col=I(\"red\")) +\n",
    "  ggtitle(\"Distribution of the average rating per user\")"
   ]
  },
  {
   "cell_type": "markdown",
   "metadata": {},
   "source": [
    "## Data Normalization\n",
    "In the case of some users, there can be high ratings or low ratings provided to all of the watched films. This will act as a bias while implementing our model. In order to remove this, we normalize our data. Normalization is a data preparation procedure to standardize the numerical values in a column to a common scale value. This is done in such a way that there is no distortion in the range of values. Normalization transforms the average value of our ratings column to 0. We then plot a heatmap that delineates our normalized ratings."
   ]
  },
  {
   "cell_type": "code",
   "execution_count": null,
   "metadata": {},
   "outputs": [],
   "source": [
    "normalized_ratings <- normalize(movie_ratings)\n",
    "sum(rowMeans(normalized_ratings) > 0.00001)\n",
    "image(normalized_ratings[rowCounts(normalized_ratings) > minimum_movies,\n",
    "                          colCounts(normalized_ratings) > minimum_users],\n",
    "main = \"Normalized Ratings of the Top Users\")"
   ]
  },
  {
   "cell_type": "markdown",
   "metadata": {},
   "source": [
    "[1] 0"
   ]
  },
  {
   "cell_type": "markdown",
   "metadata": {},
   "source": [
    "## Performing Data Binarization\n",
    "In the final step of our data preparation, we will binarize our data. Binarizing the data means that we have two discrete values **1** and **0**, which will allow our recommendation systems to work more efficiently. We will define a matrix that will consist of *1 if the rating is **above 3** and otherwise it will be 0.*"
   ]
  },
  {
   "cell_type": "code",
   "execution_count": null,
   "metadata": {},
   "outputs": [],
   "source": [
    "binary_minimum_movies <- quantile(rowCounts(movie_ratings), 0.95)\n",
    "binary_minimum_users <- quantile(colCounts(movie_ratings), 0.95)\n",
    "#movies_watched <- binarize(movie_ratings, minRating = 1)\n",
    "good_rated_films <- binarize(movie_ratings, minRating = 3)\n",
    "image(good_rated_films[rowCounts(movie_ratings) > binary_minimum_movies,\n",
    "colCounts(movie_ratings) > binary_minimum_users],\n",
    "main = \"Heatmap of the top users and movies\")"
   ]
  },
  {
   "cell_type": "markdown",
   "metadata": {},
   "source": [
    "## Collaborative Filtering System\n",
    "In this section, we will develop our very own **Item Based Collaborative Filtering System**. This type of collaborative filtering finds similarity in the items based on the people’s ratings of them. The algorithm first builds a similar-items table of the customers who have purchased them into a combination of similar items. This is then fed into the recommendation system.\n",
    "\n",
    "The similarity between single products and related products can be determined with the following algorithm –\n",
    "\n",
    "- For each Item i1 present in the product catalog, purchased by customer C.\n",
    "- And, for each item i2 also purchased by the customer C.\n",
    "- Create record that the customer purchased items i1 and i2.\n",
    "- Calculate the similarity between i1 and i2.\n",
    "\n",
    "We will build this filtering system by splitting the dataset into **80% training set** and **20% test set**."
   ]
  },
  {
   "cell_type": "code",
   "execution_count": null,
   "metadata": {},
   "outputs": [],
   "source": [
    "sampled_data<- sample(x = c(TRUE, FALSE),\n",
    "                      size = nrow(movie_ratings),\n",
    "                      replace = TRUE,\n",
    "                      prob = c(0.8, 0.2))\n",
    "training_data <- movie_ratings[sampled_data, ]\n",
    "testing_data <- movie_ratings[!sampled_data, ]"
   ]
  },
  {
   "cell_type": "markdown",
   "metadata": {},
   "source": [
    "## Building the Recommendation System using R\n",
    "\n",
    "We will now explore the various parameters of our Item Based Collaborative Filter. These parameters are default in nature. In the first step, **k** denotes *the number of items for computing their similarities*. Here, k is equal to **30**. Therefore, the algorithm will now identify the k most similar items and store their number. We use the **cosine method** which is the default one but you can also use *pearson method*."
   ]
  },
  {
   "cell_type": "code",
   "execution_count": null,
   "metadata": {},
   "outputs": [],
   "source": [
    "recommendation_system <- recommenderRegistry$get_entries(dataType =\"realRatingMatrix\")\n",
    "recommendation_system$IBCF_realRatingMatrix$parameters"
   ]
  },
  {
   "cell_type": "code",
   "execution_count": null,
   "metadata": {},
   "outputs": [],
   "source": [
    "$k\n",
    "[1] 30\n",
    "\n",
    "$method\n",
    "[1] \"Cosine\"\n",
    "\n",
    "$normalize\n",
    "[1] \"center\"\n",
    "\n",
    "$normalize_sim_matrix\n",
    "[1] FALSE\n",
    "\n",
    "$alpha\n",
    "[1] 0.5\n",
    "\n",
    "$na_as_zero\n",
    "[1] FALSE\n"
   ]
  },
  {
   "cell_type": "code",
   "execution_count": null,
   "metadata": {},
   "outputs": [],
   "source": [
    "recommen_model <- Recommender(data = training_data,\n",
    "                          method = \"IBCF\",\n",
    "                          parameter = list(k = 30))\n",
    "recommen_model\n",
    "class(recommen_model)"
   ]
  },
  {
   "cell_type": "code",
   "execution_count": null,
   "metadata": {},
   "outputs": [],
   "source": [
    "Recommender of type ‘IBCF’ for ‘realRatingMatrix’ \n",
    "learned using 337 users.\n",
    "\n",
    "[1] \"Recommender\"\n",
    "attr(,\"package\")\n",
    "[1] \"recommenderlab\"\n"
   ]
  },
  {
   "cell_type": "markdown",
   "metadata": {},
   "source": [
    "Let us now explore our data science recommendation system model as follows:\n",
    "\n",
    "Using the **getModel()** function, we will retrieve the **recommen_model**. We will then find the class and dimensions of our similarity matrix that is contained within **model_info**. Finally, we will generate a heatmap, that will contain the top **20** items and visualize the similarity shared between them."
   ]
  },
  {
   "cell_type": "code",
   "execution_count": null,
   "metadata": {},
   "outputs": [],
   "source": [
    "model_info <- getModel(recommen_model)\n",
    "class(model_info$sim)\n",
    "dim(model_info$sim)\n",
    "top_items <- 20\n",
    "image(model_info$sim[1:top_items, 1:top_items],\n",
    "   main = \"Heatmap of the first rows and columns\")"
   ]
  },
  {
   "cell_type": "code",
   "execution_count": null,
   "metadata": {},
   "outputs": [],
   "source": [
    "[1] \"dgCMatrix\"\n",
    "attr(,\"package\")\n",
    "[1] \"Matrix\"\n",
    "\n",
    "[1] 447 447"
   ]
  },
  {
   "cell_type": "markdown",
   "metadata": {},
   "source": [
    "In the next step, we will carry out the sum of rows and columns with the similarity of the objects above 0. We will visualize the sum of columns through a distribution"
   ]
  },
  {
   "cell_type": "code",
   "execution_count": null,
   "metadata": {},
   "outputs": [],
   "source": [
    "sum_rows <- rowSums(model_info$sim > 0)\n",
    "table(sum_rows)\n",
    "sum_cols <- colSums(model_info$sim > 0)\n",
    "qplot(sum_cols, fill=I(\"steelblue\"), col=I(\"red\"))+ ggtitle(\"Distribution of the column count\")"
   ]
  },
  {
   "cell_type": "markdown",
   "metadata": {},
   "source": [
    "`stat_bin()` using `bins = 30`. Pick better value with `binwidth`."
   ]
  },
  {
   "cell_type": "markdown",
   "metadata": {},
   "source": [
    "## How to build Recommender System on dataset using R?\n",
    "\n",
    "We will create a **top_recommendations** variable which will be initialized to **10**, specifying the number of films to each user. We will then use the **predict()** function that will identify similar items and will rank them appropriately. Here, each rating is used as a weight. Each weight is multiplied with related similarities. Finally, everything is added in the end."
   ]
  },
  {
   "cell_type": "code",
   "execution_count": null,
   "metadata": {},
   "outputs": [],
   "source": [
    "top_recommendations <- 10 # the number of items to recommend to each user\n",
    "predicted_recommendations <- predict(object = recommen_model,\n",
    "                          newdata = testing_data,\n",
    "                          n = top_recommendations)\n",
    "predicted_recommendations"
   ]
  },
  {
   "cell_type": "markdown",
   "metadata": {},
   "source": [
    "*Recommendations as ‘topNList’ with n = 10 for 83 users.*"
   ]
  },
  {
   "cell_type": "code",
   "execution_count": null,
   "metadata": {},
   "outputs": [],
   "source": [
    "user1 <- predicted_recommendations@items[[1]] # recommendation for the first user\n",
    "movies_user1 <- predicted_recommendations@itemLabels[user1]\n",
    "movies_user2 <- movies_user1\n",
    "for (index in 1:10){\n",
    "  movies_user2[index] <- as.character(subset(movie_data,\n",
    "                                         movie_data$movieId == movies_user1[index])$title)\n",
    "}\n",
    "movies_user2"
   ]
  },
  {
   "cell_type": "code",
   "execution_count": null,
   "metadata": {},
   "outputs": [],
   "source": [
    "[1] \"Demolition Man (1993)\"                    \"Incredibles, The (2004)\"                  \"Lock, Stock & Two Smoking Barrels (1998)\"\n",
    " [4] \"Goldfinger (1964)\"                        \"Road Warrior, The (Mad Max 2) (1981)\"     \"Minority Report (2002)\"                  \n",
    " [7] \"Highlander (1986)\"                        \"My Cousin Vinny (1992)\"                   \"Animal House (1978)\"                     \n",
    "[10] \"Cable Guy, The (1996)\"   "
   ]
  },
  {
   "cell_type": "code",
   "execution_count": null,
   "metadata": {},
   "outputs": [],
   "source": [
    "recommendation_matrix <- sapply(predicted_recommendations@items,\n",
    "                      function(x){ as.integer(colnames(movie_ratings)[x]) }) # matrix with the recommendations for each user\n",
    "#dim(recc_matrix)\n",
    "recommendation_matrix[,1:4]"
   ]
  },
  {
   "cell_type": "code",
   "execution_count": null,
   "metadata": {},
   "outputs": [],
   "source": [
    "     [,1] [,2] [,3] [,4]\n",
    " [1,]  442    1   10 1339\n",
    " [2,] 8961    5   25 1527\n",
    " [3,] 2542    6  112 3418\n",
    " [4,] 2947   25  141    3\n",
    " [5,] 3703   34  163  104\n",
    " [6,] 5445   39  236  288\n",
    " [7,] 1275  158  253  442\n",
    " [8,] 2302  185  261  485\n",
    " [9,] 3421  288  300  661\n",
    "[10,]  784  293  350  802\n"
   ]
  }
 ],
 "metadata": {
  "kernelspec": {
   "display_name": "Python 3",
   "language": "python",
   "name": "python3"
  },
  "language_info": {
   "codemirror_mode": {
    "name": "ipython",
    "version": 3
   },
   "file_extension": ".py",
   "mimetype": "text/x-python",
   "name": "python",
   "nbconvert_exporter": "python",
   "pygments_lexer": "ipython3",
   "version": "3.7.4"
  }
 },
 "nbformat": 4,
 "nbformat_minor": 2
}
